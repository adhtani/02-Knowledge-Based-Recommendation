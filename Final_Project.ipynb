{
 "cells": [
  {
   "cell_type": "markdown",
   "metadata": {},
   "source": [
    "### Project: Knowledge Based Recommendation System\n",
    "\n",
    "#### DSC 630\n",
    "\n",
    "Taniya Adhikari 15/24/2021"
   ]
  },
  {
   "cell_type": "code",
   "execution_count": 1,
   "metadata": {},
   "outputs": [
    {
     "name": "stderr",
     "output_type": "stream",
     "text": [
      "[nltk_data] Downloading package stopwords to\n",
      "[nltk_data]     C:\\Users\\bibek\\AppData\\Roaming\\nltk_data...\n",
      "[nltk_data]   Package stopwords is already up-to-date!\n"
     ]
    }
   ],
   "source": [
    "from bs4 import BeautifulSoup as BS\n",
    "import numpy as np\n",
    "import pandas as pd\n",
    "\n",
    "import matplotlib.pyplot as plt; plt.rcdefaults()\n",
    "import matplotlib.pyplot as plt\n",
    "import seaborn as sns\n",
    "import requests\n",
    "\n",
    "import warnings; warnings.simplefilter('ignore')\n",
    "\n",
    "import re\n",
    "from re import sub\n",
    "import multiprocessing\n",
    "from unidecode import unidecode\n",
    "\n",
    "from gensim.models.phrases import Phrases, Phraser\n",
    "from gensim.models import Word2Vec\n",
    "from gensim.test.utils import get_tmpfile\n",
    "from gensim.models import KeyedVectors\n",
    "\n",
    "\n",
    "from time import time \n",
    "from collections import defaultdict\n",
    "\n",
    "import logging  # Setting up the loggings to monitor gensim\n",
    "logging.basicConfig(format=\"%(levelname)s - %(asctime)s: %(message)s\", datefmt= '%H:%M:%S', level=logging.INFO)\n",
    "import textblob\n",
    "\n",
    "import nltk\n",
    "nltk.download('stopwords')\n",
    "from nltk.corpus import stopwords\n",
    "from nltk.stem import PorterStemmer\n",
    "from nltk.tokenize import word_tokenize\n",
    "from textblob import TextBlob\n",
    "from sklearn.cluster import KMeans"
   ]
  },
  {
   "cell_type": "markdown",
   "metadata": {},
   "source": [
    "### Data Collection"
   ]
  },
  {
   "cell_type": "code",
   "execution_count": 2,
   "metadata": {},
   "outputs": [],
   "source": [
    "baseurl = \"https://sokoglam.com\"\n",
    "headers = {'User-Agent': 'Mozilla/5.0 (Windows NT 10.0; Win64; x64) AppleWebKit/537.36 (KHTML, like Gecko) Chrome/89.0.4389.82 Safari/537.36'}"
   ]
  },
  {
   "cell_type": "code",
   "execution_count": 3,
   "metadata": {},
   "outputs": [],
   "source": [
    "k = requests.get('https://sokoglam.com/collections/skincare').text\n",
    "soup=BS(k,'html.parser')\n",
    "productlist = soup.find_all(\"div\",{\"class\":\"product-grid-item\"})"
   ]
  },
  {
   "cell_type": "code",
   "execution_count": 5,
   "metadata": {},
   "outputs": [
    {
     "data": {
      "text/plain": [
       "1"
      ]
     },
     "execution_count": 5,
     "metadata": {},
     "output_type": "execute_result"
    }
   ],
   "source": [
    "productlinks = []\n",
    "for product in productlist:\n",
    "    link = product.find('a').get('href')\n",
    "    productlinks.append(baseurl + link)"
   ]
  },
  {
   "cell_type": "code",
   "execution_count": 6,
   "metadata": {},
   "outputs": [
    {
     "data": {
      "text/plain": [
       "299"
      ]
     },
     "execution_count": 6,
     "metadata": {},
     "output_type": "execute_result"
    }
   ],
   "source": [
    "len(productlinks)"
   ]
  },
  {
   "cell_type": "code",
   "execution_count": 7,
   "metadata": {},
   "outputs": [],
   "source": [
    "data=[]\n",
    "for link in productlinks:\n",
    "    f = requests.get(link,headers=headers).text\n",
    "    hun=BS(f,'html.parser')\n",
    "    try:\n",
    "        i=hun.find(\"div\",{\"class\":\"review-stars\"})\n",
    "        product_id = i.find(\"div\").get(\"data-product-id\")\n",
    "    except:\n",
    "        product_id = None\n",
    "        \n",
    "    try:\n",
    "        name=hun.find(\"h1\",{\"class\":\"pdp__product-title\"}).text.replace('\\n',\"\")\n",
    "    except:\n",
    "        name = None\n",
    "        \n",
    "    try:\n",
    "        brand=hun.find(\"h3\",{\"class\":\"pdp__product-vendor\"}).text.replace('\\n',\"\")\n",
    "    except:\n",
    "        brand = None\n",
    "    \n",
    "    try:\n",
    "        price=hun.find(\"span\",{\"class\":\"pdp-product__price--sale ProductPrice\"}).text.replace('\\n',\"\")\n",
    "    except:\n",
    "        price = None\n",
    "\n",
    "    try:\n",
    "        content1=hun.find(\"section\",{\"id\":\"content1\"})\n",
    "        descp=content1.find(\"div\",{\"class\":\"pdp-tab-content\"}).text.replace('\\n',\"\")\n",
    "    except:\n",
    "        descp = None\n",
    "\n",
    "    product = {\"product_ID\":product_id,\"product_name\":name, \"product_brand\":brand, \"price\": price, \"product_description\":descp, }\n",
    "\n",
    "    data.append(product)"
   ]
  },
  {
   "cell_type": "code",
   "execution_count": 24,
   "metadata": {},
   "outputs": [],
   "source": [
    "meta_df = pd.DataFrame(data)"
   ]
  },
  {
   "cell_type": "code",
   "execution_count": 25,
   "metadata": {
    "scrolled": true
   },
   "outputs": [
    {
     "data": {
      "text/plain": [
       "(299, 5)"
      ]
     },
     "execution_count": 25,
     "metadata": {},
     "output_type": "execute_result"
    }
   ],
   "source": [
    "meta_df.shape"
   ]
  },
  {
   "cell_type": "markdown",
   "metadata": {},
   "source": [
    "Removing products that are either body or hair product, makeup products that is not typical skincare, books from the website, clothes"
   ]
  },
  {
   "cell_type": "code",
   "execution_count": 26,
   "metadata": {},
   "outputs": [],
   "source": [
    "remove = ['Hair', 'Shampoo', 'Body', 'Foot', 'Hand']\n",
    "for item in remove:\n",
    "    for index, row in meta_df.iterrows():\n",
    "        x = str(row['product_name'])\n",
    "        if item in x:\n",
    "            meta_df.drop(index, inplace=True)\n",
    "        else:\n",
    "            None"
   ]
  },
  {
   "cell_type": "code",
   "execution_count": 27,
   "metadata": {},
   "outputs": [],
   "source": [
    "remove = ['Hair', 'Shampoo', 'Body', 'Foot', 'Hand']\n",
    "for item in remove:\n",
    "    for index, row in meta_df.iterrows():\n",
    "        x = str(row['product_description'])\n",
    "        if item in x:\n",
    "            meta_df.drop(index, inplace=True)\n",
    "        else:\n",
    "            None"
   ]
  },
  {
   "cell_type": "code",
   "execution_count": 28,
   "metadata": {},
   "outputs": [],
   "source": [
    "remove = ['Set', 'Kit', 'Routine', 'Collection', 'Duo Trial', 'Treatment Duo', 'Balancing Duo', 'Cleansing Duo']\n",
    "for item in remove:\n",
    "    for index, row in meta_df.iterrows():\n",
    "        x = str(row['product_name'])\n",
    "        if item in x:\n",
    "            meta_df.drop(index, inplace=True)\n",
    "        else:\n",
    "            None"
   ]
  },
  {
   "cell_type": "code",
   "execution_count": 29,
   "metadata": {},
   "outputs": [],
   "source": [
    "remove = ['Liner', 'Blush', 'Primer', 'Lip Luminizer', 'Lip Lacquer', 'Eyeliner', 'Mascara', \"Multistick\", \"Mini\", \"Lashes\"]\n",
    "for item in remove:\n",
    "    for index, row in meta_df.iterrows():\n",
    "        x = str(row['product_name'])\n",
    "        if item in x:\n",
    "            meta_df.drop(index, inplace=True)\n",
    "        else:\n",
    "            None"
   ]
  },
  {
   "cell_type": "code",
   "execution_count": 30,
   "metadata": {},
   "outputs": [],
   "source": [
    "remove = ['Cotton', 'Paper', 'Book', 'Baseball Cap', 'Sweatshirt']\n",
    "for item in remove:\n",
    "    for index, row in meta_df.iterrows():\n",
    "        x = str(row['product_name'])\n",
    "        if item in x:\n",
    "            meta_df.drop(index, inplace=True)\n",
    "        else:\n",
    "            None"
   ]
  },
  {
   "cell_type": "code",
   "execution_count": 31,
   "metadata": {},
   "outputs": [
    {
     "data": {
      "text/plain": [
       "(237, 5)"
      ]
     },
     "execution_count": 31,
     "metadata": {},
     "output_type": "execute_result"
    }
   ],
   "source": [
    "meta_df.shape"
   ]
  },
  {
   "cell_type": "markdown",
   "metadata": {},
   "source": [
    "Adding a product type to the dataframe"
   ]
  },
  {
   "cell_type": "code",
   "execution_count": 32,
   "metadata": {},
   "outputs": [],
   "source": [
    "meta_df['product_type'] = None"
   ]
  },
  {
   "cell_type": "code",
   "execution_count": 33,
   "metadata": {},
   "outputs": [],
   "source": [
    "def product_type(items, word, df):\n",
    "    for item in items:\n",
    "        for index, row in df.iterrows():\n",
    "            if row['product_type'] == None:\n",
    "                x = str(row['product_name'])\n",
    "                if item in x:\n",
    "                    row['product_type'] = word\n",
    "                else:\n",
    "                    None"
   ]
  },
  {
   "cell_type": "code",
   "execution_count": 34,
   "metadata": {},
   "outputs": [],
   "source": [
    "items = ['Eye']\n",
    "product_type(items, 'Eye Treatment', meta_df)"
   ]
  },
  {
   "cell_type": "code",
   "execution_count": 35,
   "metadata": {},
   "outputs": [],
   "source": [
    "items = ['Lip']\n",
    "product_type(items, 'Lip Treatment', meta_df)"
   ]
  },
  {
   "cell_type": "code",
   "execution_count": 36,
   "metadata": {},
   "outputs": [],
   "source": [
    "add = ['Sun Cream', 'Sun Essence', 'Sunscreen', 'UV', 'SPF', \"I'm Safe For Sensitive Skin\", 'Suncream']\n",
    "for item in add:\n",
    "    for index, row in meta_df.iterrows():\n",
    "        if row['product_type'] == None:\n",
    "            x = str(row['product_name'])\n",
    "            if item in x:\n",
    "                row['product_type'] = 'Sun Protection'\n",
    "            else:\n",
    "                None"
   ]
  },
  {
   "cell_type": "code",
   "execution_count": 37,
   "metadata": {},
   "outputs": [],
   "source": [
    "items = ['Sheet Mask']\n",
    "product_type(items, 'Sheet Mask', meta_df)"
   ]
  },
  {
   "cell_type": "code",
   "execution_count": 38,
   "metadata": {},
   "outputs": [],
   "source": [
    "items = ['Mask']\n",
    "product_type(items, 'Mask', meta_df)"
   ]
  },
  {
   "cell_type": "code",
   "execution_count": 39,
   "metadata": {},
   "outputs": [],
   "source": [
    "items = ['Serum', 'Ampoule']\n",
    "product_type(items, 'Serum', meta_df)"
   ]
  },
  {
   "cell_type": "code",
   "execution_count": 40,
   "metadata": {},
   "outputs": [],
   "source": [
    "items = ['Essence', 'Mist']\n",
    "product_type(items, 'Essence', meta_df)"
   ]
  },
  {
   "cell_type": "code",
   "execution_count": 41,
   "metadata": {},
   "outputs": [],
   "source": [
    "items = ['Cleansing', 'Cleanser', 'Foam']\n",
    "product_type(items, 'Cleanser', meta_df)"
   ]
  },
  {
   "cell_type": "code",
   "execution_count": 42,
   "metadata": {},
   "outputs": [],
   "source": [
    "items = ['Toner', 'Toning', 'Water']\n",
    "product_type(items, 'Toner', meta_df)"
   ]
  },
  {
   "cell_type": "code",
   "execution_count": 43,
   "metadata": {},
   "outputs": [],
   "source": [
    "items = ['Lotion', 'Cream', 'Moisturizer', 'Emulsion']\n",
    "product_type(items, 'Moisturizer', meta_df)"
   ]
  },
  {
   "cell_type": "code",
   "execution_count": 44,
   "metadata": {},
   "outputs": [],
   "source": [
    "items = ['Peel', 'Peeling', 'Scrub', 'Exfoliat', 'Pad']\n",
    "product_type(items, 'Exfoliator', meta_df)"
   ]
  },
  {
   "cell_type": "code",
   "execution_count": 45,
   "metadata": {},
   "outputs": [],
   "source": [
    "for index, row in meta_df.iterrows():\n",
    "    if row['product_type'] == None:\n",
    "        x = str(row['product_name'])\n",
    "        row['product_type'] = 'Other/Spot Treatments'"
   ]
  },
  {
   "cell_type": "code",
   "execution_count": 46,
   "metadata": {},
   "outputs": [],
   "source": [
    "meta_df.to_csv('productlist.csv')"
   ]
  },
  {
   "cell_type": "code",
   "execution_count": 34,
   "metadata": {},
   "outputs": [
    {
     "data": {
      "text/plain": [
       "1"
      ]
     },
     "execution_count": 34,
     "metadata": {},
     "output_type": "execute_result"
    }
   ],
   "source": [
    "session = requests.Session()\n",
    "#productToReviews = [] #empty dictionary\n",
    "productReviews = []\n",
    "for index, row in meta_df.iterrows():\n",
    "    requestUrl = 'https://staticw2.yotpo.com/batch/app_key/kILjLgKH3AFJKWu0W8HoD8nuvs72obqsSPmWjHiG/domain_key/{}/widget/reviews'.format(row.product_ID)\n",
    "    recordExists = True\n",
    "    i = 1\n",
    "    while(recordExists):\n",
    "        methodBody = '[{\"method\":\"reviews\",\"params\":{\"pid\":' + row.product_ID + ',\"order_metadata_fields\":{},\"index\":0,\"element_id\":\"1\",\"data_source\":\"default\",\"page\":' + str(i) +',\"host-widget\":\"main_widget\",\"is_mobile\":false,\"pictures_per_review\":10}}]'\n",
    "        #print(methodBody)\n",
    "        x = session.post(url, data = {'methods': methodBody})\n",
    "        if('be the first to write a review' in x.text):\n",
    "            #print(\"no record\")\n",
    "            recordExists = False\n",
    "        else:\n",
    "            y = json.loads(x.text)\n",
    "            soup=BS(y[0][\"result\"],'html.parser')\n",
    "            reviewList = soup.find_all(\"div\",{\"class\":\"content-review\"})\n",
    "            for review in reviewList:\n",
    "                s = BS(str(review),'html.parser')\n",
    "                r = s.find(\"div\").text.strip()\n",
    "                if(len(r)):\n",
    "                    productReviews.append({\"product_id\": row.product_ID, \"review\": r})\n",
    "            i += 1\n",
    "reviewDataFrame = pd.DataFrame.from_records(productReviews)"
   ]
  },
  {
   "cell_type": "code",
   "execution_count": 436,
   "metadata": {},
   "outputs": [],
   "source": [
    "reviewDataFrame.to_csv('productReviews.csv')"
   ]
  },
  {
   "cell_type": "markdown",
   "metadata": {},
   "source": [
    "### Data Preparation"
   ]
  },
  {
   "cell_type": "markdown",
   "metadata": {},
   "source": [
    "#### Data Frame 1 Product List"
   ]
  },
  {
   "cell_type": "code",
   "execution_count": 47,
   "metadata": {},
   "outputs": [],
   "source": [
    "productList_df = pd.read_csv(\"productlist.csv\")"
   ]
  },
  {
   "cell_type": "code",
   "execution_count": 48,
   "metadata": {},
   "outputs": [
    {
     "data": {
      "text/html": [
       "<div>\n",
       "<style scoped>\n",
       "    .dataframe tbody tr th:only-of-type {\n",
       "        vertical-align: middle;\n",
       "    }\n",
       "\n",
       "    .dataframe tbody tr th {\n",
       "        vertical-align: top;\n",
       "    }\n",
       "\n",
       "    .dataframe thead th {\n",
       "        text-align: right;\n",
       "    }\n",
       "</style>\n",
       "<table border=\"1\" class=\"dataframe\">\n",
       "  <thead>\n",
       "    <tr style=\"text-align: right;\">\n",
       "      <th></th>\n",
       "      <th>Unnamed: 0</th>\n",
       "      <th>product_ID</th>\n",
       "      <th>product_name</th>\n",
       "      <th>product_brand</th>\n",
       "      <th>price</th>\n",
       "      <th>product_description</th>\n",
       "      <th>product_type</th>\n",
       "    </tr>\n",
       "  </thead>\n",
       "  <tbody>\n",
       "    <tr>\n",
       "      <th>0</th>\n",
       "      <td>0</td>\n",
       "      <td>6562638659653</td>\n",
       "      <td>VITALIFT-A</td>\n",
       "      <td>Dr. Different</td>\n",
       "      <td>$42</td>\n",
       "      <td>This night-time skin treatment is ideal for th...</td>\n",
       "      <td>Other/Spot Treatments</td>\n",
       "    </tr>\n",
       "    <tr>\n",
       "      <th>1</th>\n",
       "      <td>1</td>\n",
       "      <td>6562639675461</td>\n",
       "      <td>VITALIFT-A Forte</td>\n",
       "      <td>Dr. Different</td>\n",
       "      <td>$52</td>\n",
       "      <td>Those that need an extra boost to smooth out f...</td>\n",
       "      <td>Other/Spot Treatments</td>\n",
       "    </tr>\n",
       "    <tr>\n",
       "      <th>2</th>\n",
       "      <td>2</td>\n",
       "      <td>6562640429125</td>\n",
       "      <td>VITALIFT-A Eye &amp; Neck</td>\n",
       "      <td>Dr. Different</td>\n",
       "      <td>$40</td>\n",
       "      <td>For those looking to target fine lines and wri...</td>\n",
       "      <td>Eye Treatment</td>\n",
       "    </tr>\n",
       "  </tbody>\n",
       "</table>\n",
       "</div>"
      ],
      "text/plain": [
       "   Unnamed: 0     product_ID           product_name  product_brand price  \\\n",
       "0           0  6562638659653             VITALIFT-A  Dr. Different   $42   \n",
       "1           1  6562639675461       VITALIFT-A Forte  Dr. Different   $52   \n",
       "2           2  6562640429125  VITALIFT-A Eye & Neck  Dr. Different   $40   \n",
       "\n",
       "                                 product_description           product_type  \n",
       "0  This night-time skin treatment is ideal for th...  Other/Spot Treatments  \n",
       "1  Those that need an extra boost to smooth out f...  Other/Spot Treatments  \n",
       "2  For those looking to target fine lines and wri...          Eye Treatment  "
      ]
     },
     "execution_count": 48,
     "metadata": {},
     "output_type": "execute_result"
    }
   ],
   "source": [
    "productList_df.head(3)"
   ]
  },
  {
   "cell_type": "code",
   "execution_count": 49,
   "metadata": {},
   "outputs": [],
   "source": [
    "productList_df = pd.read_csv(\"productlist.csv\", index_col=0)"
   ]
  },
  {
   "cell_type": "code",
   "execution_count": 50,
   "metadata": {},
   "outputs": [
    {
     "data": {
      "text/html": [
       "<div>\n",
       "<style scoped>\n",
       "    .dataframe tbody tr th:only-of-type {\n",
       "        vertical-align: middle;\n",
       "    }\n",
       "\n",
       "    .dataframe tbody tr th {\n",
       "        vertical-align: top;\n",
       "    }\n",
       "\n",
       "    .dataframe thead th {\n",
       "        text-align: right;\n",
       "    }\n",
       "</style>\n",
       "<table border=\"1\" class=\"dataframe\">\n",
       "  <thead>\n",
       "    <tr style=\"text-align: right;\">\n",
       "      <th></th>\n",
       "      <th>product_ID</th>\n",
       "      <th>product_name</th>\n",
       "      <th>product_brand</th>\n",
       "      <th>price</th>\n",
       "      <th>product_description</th>\n",
       "      <th>product_type</th>\n",
       "    </tr>\n",
       "  </thead>\n",
       "  <tbody>\n",
       "    <tr>\n",
       "      <th>0</th>\n",
       "      <td>6562638659653</td>\n",
       "      <td>VITALIFT-A</td>\n",
       "      <td>Dr. Different</td>\n",
       "      <td>$42</td>\n",
       "      <td>This night-time skin treatment is ideal for th...</td>\n",
       "      <td>Other/Spot Treatments</td>\n",
       "    </tr>\n",
       "    <tr>\n",
       "      <th>1</th>\n",
       "      <td>6562639675461</td>\n",
       "      <td>VITALIFT-A Forte</td>\n",
       "      <td>Dr. Different</td>\n",
       "      <td>$52</td>\n",
       "      <td>Those that need an extra boost to smooth out f...</td>\n",
       "      <td>Other/Spot Treatments</td>\n",
       "    </tr>\n",
       "    <tr>\n",
       "      <th>2</th>\n",
       "      <td>6562640429125</td>\n",
       "      <td>VITALIFT-A Eye &amp; Neck</td>\n",
       "      <td>Dr. Different</td>\n",
       "      <td>$40</td>\n",
       "      <td>For those looking to target fine lines and wri...</td>\n",
       "      <td>Eye Treatment</td>\n",
       "    </tr>\n",
       "  </tbody>\n",
       "</table>\n",
       "</div>"
      ],
      "text/plain": [
       "      product_ID           product_name  product_brand price  \\\n",
       "0  6562638659653             VITALIFT-A  Dr. Different   $42   \n",
       "1  6562639675461       VITALIFT-A Forte  Dr. Different   $52   \n",
       "2  6562640429125  VITALIFT-A Eye & Neck  Dr. Different   $40   \n",
       "\n",
       "                                 product_description           product_type  \n",
       "0  This night-time skin treatment is ideal for th...  Other/Spot Treatments  \n",
       "1  Those that need an extra boost to smooth out f...  Other/Spot Treatments  \n",
       "2  For those looking to target fine lines and wri...          Eye Treatment  "
      ]
     },
     "execution_count": 50,
     "metadata": {},
     "output_type": "execute_result"
    }
   ],
   "source": [
    "productList_df.head(3)"
   ]
  },
  {
   "cell_type": "code",
   "execution_count": 51,
   "metadata": {},
   "outputs": [],
   "source": [
    "def clean_currency(x):\n",
    "    \n",
    "    #If the value is a string, then remove currency symbol and delimiters\n",
    "    #otherwise, the value is numeric and can be converted\n",
    "    \n",
    "    if isinstance(x, str):\n",
    "        return(x.replace('$', '').replace(',', ''))\n",
    "    return(x)"
   ]
  },
  {
   "cell_type": "code",
   "execution_count": 52,
   "metadata": {},
   "outputs": [],
   "source": [
    "productList_df['price'] = productList_df['price'].apply(clean_currency).astype('float')\n",
    "productList_df = productList_df.rename(columns={\"product_ID\": \"product_id\"})"
   ]
  },
  {
   "cell_type": "code",
   "execution_count": 53,
   "metadata": {},
   "outputs": [
    {
     "data": {
      "text/html": [
       "<div>\n",
       "<style scoped>\n",
       "    .dataframe tbody tr th:only-of-type {\n",
       "        vertical-align: middle;\n",
       "    }\n",
       "\n",
       "    .dataframe tbody tr th {\n",
       "        vertical-align: top;\n",
       "    }\n",
       "\n",
       "    .dataframe thead th {\n",
       "        text-align: right;\n",
       "    }\n",
       "</style>\n",
       "<table border=\"1\" class=\"dataframe\">\n",
       "  <thead>\n",
       "    <tr style=\"text-align: right;\">\n",
       "      <th></th>\n",
       "      <th>product_id</th>\n",
       "      <th>product_name</th>\n",
       "      <th>product_brand</th>\n",
       "      <th>price</th>\n",
       "      <th>product_description</th>\n",
       "      <th>product_type</th>\n",
       "    </tr>\n",
       "  </thead>\n",
       "  <tbody>\n",
       "    <tr>\n",
       "      <th>0</th>\n",
       "      <td>6562638659653</td>\n",
       "      <td>VITALIFT-A</td>\n",
       "      <td>Dr. Different</td>\n",
       "      <td>42.0</td>\n",
       "      <td>This night-time skin treatment is ideal for th...</td>\n",
       "      <td>Other/Spot Treatments</td>\n",
       "    </tr>\n",
       "    <tr>\n",
       "      <th>1</th>\n",
       "      <td>6562639675461</td>\n",
       "      <td>VITALIFT-A Forte</td>\n",
       "      <td>Dr. Different</td>\n",
       "      <td>52.0</td>\n",
       "      <td>Those that need an extra boost to smooth out f...</td>\n",
       "      <td>Other/Spot Treatments</td>\n",
       "    </tr>\n",
       "    <tr>\n",
       "      <th>2</th>\n",
       "      <td>6562640429125</td>\n",
       "      <td>VITALIFT-A Eye &amp; Neck</td>\n",
       "      <td>Dr. Different</td>\n",
       "      <td>40.0</td>\n",
       "      <td>For those looking to target fine lines and wri...</td>\n",
       "      <td>Eye Treatment</td>\n",
       "    </tr>\n",
       "  </tbody>\n",
       "</table>\n",
       "</div>"
      ],
      "text/plain": [
       "      product_id           product_name  product_brand  price  \\\n",
       "0  6562638659653             VITALIFT-A  Dr. Different   42.0   \n",
       "1  6562639675461       VITALIFT-A Forte  Dr. Different   52.0   \n",
       "2  6562640429125  VITALIFT-A Eye & Neck  Dr. Different   40.0   \n",
       "\n",
       "                                 product_description           product_type  \n",
       "0  This night-time skin treatment is ideal for th...  Other/Spot Treatments  \n",
       "1  Those that need an extra boost to smooth out f...  Other/Spot Treatments  \n",
       "2  For those looking to target fine lines and wri...          Eye Treatment  "
      ]
     },
     "execution_count": 53,
     "metadata": {},
     "output_type": "execute_result"
    }
   ],
   "source": [
    "productList_df.head(3)"
   ]
  },
  {
   "cell_type": "code",
   "execution_count": 56,
   "metadata": {},
   "outputs": [],
   "source": [
    "X = productList_df[['product_id','product_type','product_brand', 'price']]"
   ]
  },
  {
   "cell_type": "code",
   "execution_count": 57,
   "metadata": {},
   "outputs": [],
   "source": [
    "X.to_csv('prod_descR.csv')"
   ]
  },
  {
   "cell_type": "markdown",
   "metadata": {},
   "source": [
    "#### Data Frame 2 Product Reviews"
   ]
  },
  {
   "cell_type": "code",
   "execution_count": 203,
   "metadata": {},
   "outputs": [],
   "source": [
    "productReviews_df = pd.read_csv(\"productReviews.csv\", index_col=0)"
   ]
  },
  {
   "cell_type": "code",
   "execution_count": 204,
   "metadata": {},
   "outputs": [
    {
     "data": {
      "text/html": [
       "<div>\n",
       "<style scoped>\n",
       "    .dataframe tbody tr th:only-of-type {\n",
       "        vertical-align: middle;\n",
       "    }\n",
       "\n",
       "    .dataframe tbody tr th {\n",
       "        vertical-align: top;\n",
       "    }\n",
       "\n",
       "    .dataframe thead th {\n",
       "        text-align: right;\n",
       "    }\n",
       "</style>\n",
       "<table border=\"1\" class=\"dataframe\">\n",
       "  <thead>\n",
       "    <tr style=\"text-align: right;\">\n",
       "      <th></th>\n",
       "      <th>product_id</th>\n",
       "      <th>review</th>\n",
       "    </tr>\n",
       "  </thead>\n",
       "  <tbody>\n",
       "    <tr>\n",
       "      <th>0</th>\n",
       "      <td>4669755719749</td>\n",
       "      <td>This makes my skin smooth and soft and is ligh...</td>\n",
       "    </tr>\n",
       "    <tr>\n",
       "      <th>1</th>\n",
       "      <td>4669755719749</td>\n",
       "      <td>Love the silky texture. It's very lightweight ...</td>\n",
       "    </tr>\n",
       "    <tr>\n",
       "      <th>2</th>\n",
       "      <td>4669755719749</td>\n",
       "      <td>I’ve been trying to find a moisturizer that wo...</td>\n",
       "    </tr>\n",
       "  </tbody>\n",
       "</table>\n",
       "</div>"
      ],
      "text/plain": [
       "      product_id                                             review\n",
       "0  4669755719749  This makes my skin smooth and soft and is ligh...\n",
       "1  4669755719749  Love the silky texture. It's very lightweight ...\n",
       "2  4669755719749  I’ve been trying to find a moisturizer that wo..."
      ]
     },
     "execution_count": 204,
     "metadata": {},
     "output_type": "execute_result"
    }
   ],
   "source": [
    "productReviews_df[['product_id','review']].head(3)"
   ]
  },
  {
   "cell_type": "code",
   "execution_count": 205,
   "metadata": {},
   "outputs": [
    {
     "data": {
      "text/plain": [
       "'I’ve been trying to find a moisturizer that would not dry out my skin for months. Especially while wearing a mask. This product does much better than lots of others I have tried. Thank you'"
      ]
     },
     "execution_count": 205,
     "metadata": {},
     "output_type": "execute_result"
    }
   ],
   "source": [
    "productReviews_df.iloc[2,1]"
   ]
  },
  {
   "cell_type": "markdown",
   "metadata": {},
   "source": [
    "Remove Whitespace"
   ]
  },
  {
   "cell_type": "code",
   "execution_count": 206,
   "metadata": {},
   "outputs": [],
   "source": [
    "def no_whitespace(string):\n",
    "    return string.strip()"
   ]
  },
  {
   "cell_type": "code",
   "execution_count": 207,
   "metadata": {},
   "outputs": [
    {
     "data": {
      "text/html": [
       "<div>\n",
       "<style scoped>\n",
       "    .dataframe tbody tr th:only-of-type {\n",
       "        vertical-align: middle;\n",
       "    }\n",
       "\n",
       "    .dataframe tbody tr th {\n",
       "        vertical-align: top;\n",
       "    }\n",
       "\n",
       "    .dataframe thead th {\n",
       "        text-align: right;\n",
       "    }\n",
       "</style>\n",
       "<table border=\"1\" class=\"dataframe\">\n",
       "  <thead>\n",
       "    <tr style=\"text-align: right;\">\n",
       "      <th></th>\n",
       "      <th>product_id</th>\n",
       "      <th>review</th>\n",
       "    </tr>\n",
       "  </thead>\n",
       "  <tbody>\n",
       "    <tr>\n",
       "      <th>0</th>\n",
       "      <td>4669755719749</td>\n",
       "      <td>This makes my skin smooth and soft and is ligh...</td>\n",
       "    </tr>\n",
       "    <tr>\n",
       "      <th>1</th>\n",
       "      <td>4669755719749</td>\n",
       "      <td>Love the silky texture. It's very lightweight ...</td>\n",
       "    </tr>\n",
       "  </tbody>\n",
       "</table>\n",
       "</div>"
      ],
      "text/plain": [
       "      product_id                                             review\n",
       "0  4669755719749  This makes my skin smooth and soft and is ligh...\n",
       "1  4669755719749  Love the silky texture. It's very lightweight ..."
      ]
     },
     "execution_count": 207,
     "metadata": {},
     "output_type": "execute_result"
    }
   ],
   "source": [
    "# stripping white space from all column type as object\n",
    "def clean_string(df):\n",
    "    \n",
    "    for col in df.columns:\n",
    "        if df[col].dtype == np.object:\n",
    "            new = '{}_new'.format(col)\n",
    "            df[new] = df[col].apply(no_whitespace)\n",
    "            df[col] = df[new]\n",
    "            df = df.drop(columns=[new])\n",
    "    return df\n",
    "\n",
    "\n",
    "productReviews_df = clean_string(productReviews_df)\n",
    "productReviews_df.head(2)"
   ]
  },
  {
   "cell_type": "code",
   "execution_count": 208,
   "metadata": {},
   "outputs": [],
   "source": [
    "from itertools import groupby"
   ]
  },
  {
   "cell_type": "code",
   "execution_count": 209,
   "metadata": {},
   "outputs": [],
   "source": [
    "def text_w_punc(text):\n",
    "    pattern = r'[^A-Za-z ]'\n",
    "    regex = re.compile(pattern)\n",
    "    text = regex.sub(' ', text)\n",
    "    return text"
   ]
  },
  {
   "cell_type": "code",
   "execution_count": 210,
   "metadata": {},
   "outputs": [],
   "source": [
    "import string"
   ]
  },
  {
   "cell_type": "code",
   "execution_count": 211,
   "metadata": {},
   "outputs": [],
   "source": [
    "def pre_processing1(df):\n",
    "    # converting all text to lowercase\n",
    "    df[\"review_sentiment\"] = df[\"review\"].str.lower()\n",
    "    \n",
    "    # removing punctuation using string.punctuations and join()\n",
    "    df[\"review_sentiment\"] = df[\"review_sentiment\"].apply(lambda x: \"\".join([i for i in x if i not in string.punctuation]))\n",
    "    df['review_sentiment'] = df['review_sentiment'].apply(lambda x: text_w_punc(x))    \n",
    "    \n",
    "    return df\n"
   ]
  },
  {
   "cell_type": "code",
   "execution_count": 212,
   "metadata": {},
   "outputs": [],
   "source": [
    "productReviews_df = pre_processing1(productReviews_df)"
   ]
  },
  {
   "cell_type": "code",
   "execution_count": 213,
   "metadata": {},
   "outputs": [
    {
     "data": {
      "text/plain": [
       "(15040, 3)"
      ]
     },
     "execution_count": 213,
     "metadata": {},
     "output_type": "execute_result"
    }
   ],
   "source": [
    "productReviews_df.shape"
   ]
  },
  {
   "cell_type": "markdown",
   "metadata": {},
   "source": [
    "Deleting any reviews that includes hi or sorry words, because those are replies from the seller"
   ]
  },
  {
   "cell_type": "code",
   "execution_count": 214,
   "metadata": {},
   "outputs": [],
   "source": [
    "remove = ['Hi ', 'hi ', 'sorry', 'Sorry']\n",
    "for item in remove:\n",
    "    for index, row in productReviews_df.iterrows():\n",
    "        x = str(row['review_sentiment'])\n",
    "        if item in x:\n",
    "            productReviews_df.drop(index, inplace=True)\n",
    "        else:\n",
    "            None"
   ]
  },
  {
   "cell_type": "markdown",
   "metadata": {},
   "source": [
    "Removing Stop words for (td-idf and BOW model)"
   ]
  },
  {
   "cell_type": "code",
   "execution_count": 215,
   "metadata": {},
   "outputs": [],
   "source": [
    "stop = stopwords.words('english')   \n",
    "\n",
    "# remove stop words for bag of word model and td-idf\n",
    "\n",
    "productReviews_df['stopwords'] = productReviews_df[\"review_sentiment\"].apply(lambda x: len([i for i in x.split() if i in stop]))\n",
    "productReviews_df[\"review_clean\"]= productReviews_df[\"review_sentiment\"].apply(lambda x: \" \".join(i for i in x.split() if i not in stop))\n",
    "productReviews_df['stopwords'] = productReviews_df['review_clean'].apply(lambda x: len([i for i in x.split() if i in stop]))\n",
    "del productReviews_df['stopwords']\n"
   ]
  },
  {
   "cell_type": "code",
   "execution_count": 216,
   "metadata": {},
   "outputs": [
    {
     "data": {
      "text/plain": [
       "(14562, 4)"
      ]
     },
     "execution_count": 216,
     "metadata": {},
     "output_type": "execute_result"
    }
   ],
   "source": [
    "productReviews_df.shape"
   ]
  },
  {
   "cell_type": "markdown",
   "metadata": {},
   "source": [
    "Lemmatization"
   ]
  },
  {
   "cell_type": "code",
   "execution_count": 217,
   "metadata": {},
   "outputs": [],
   "source": [
    "from nltk import pos_tag"
   ]
  },
  {
   "cell_type": "code",
   "execution_count": 220,
   "metadata": {},
   "outputs": [],
   "source": [
    "text_list = productReviews_df['review_clean'].tolist()\n",
    "\n",
    "tagged_texts = []\n",
    "\n",
    "# tag each word\n",
    "for text in text_list:\n",
    "    text_tag = pos_tag(word_tokenize(text))\n",
    "    tagged_texts.append(text_tag)"
   ]
  },
  {
   "cell_type": "code",
   "execution_count": 221,
   "metadata": {},
   "outputs": [],
   "source": [
    "productReviews_df['pos_tags'] = tagged_texts"
   ]
  },
  {
   "cell_type": "code",
   "execution_count": 222,
   "metadata": {},
   "outputs": [
    {
     "data": {
      "text/html": [
       "<div>\n",
       "<style scoped>\n",
       "    .dataframe tbody tr th:only-of-type {\n",
       "        vertical-align: middle;\n",
       "    }\n",
       "\n",
       "    .dataframe tbody tr th {\n",
       "        vertical-align: top;\n",
       "    }\n",
       "\n",
       "    .dataframe thead th {\n",
       "        text-align: right;\n",
       "    }\n",
       "</style>\n",
       "<table border=\"1\" class=\"dataframe\">\n",
       "  <thead>\n",
       "    <tr style=\"text-align: right;\">\n",
       "      <th></th>\n",
       "      <th>product_id</th>\n",
       "      <th>review</th>\n",
       "      <th>review_sentiment</th>\n",
       "      <th>review_clean</th>\n",
       "      <th>pos_tags</th>\n",
       "    </tr>\n",
       "  </thead>\n",
       "  <tbody>\n",
       "    <tr>\n",
       "      <th>0</th>\n",
       "      <td>4669755719749</td>\n",
       "      <td>This makes my skin smooth and soft and is ligh...</td>\n",
       "      <td>this makes my skin smooth and soft and is ligh...</td>\n",
       "      <td>makes skin smooth soft lightweight absorbs qui...</td>\n",
       "      <td>[(makes, VBZ), (skin, JJ), (smooth, JJ), (soft...</td>\n",
       "    </tr>\n",
       "    <tr>\n",
       "      <th>1</th>\n",
       "      <td>4669755719749</td>\n",
       "      <td>Love the silky texture. It's very lightweight ...</td>\n",
       "      <td>love the silky texture its very lightweight bu...</td>\n",
       "      <td>love silky texture lightweight hydrating leave...</td>\n",
       "      <td>[(love, VB), (silky, JJ), (texture, NN), (ligh...</td>\n",
       "    </tr>\n",
       "    <tr>\n",
       "      <th>2</th>\n",
       "      <td>4669755719749</td>\n",
       "      <td>I’ve been trying to find a moisturizer that wo...</td>\n",
       "      <td>i ve been trying to find a moisturizer that wo...</td>\n",
       "      <td>trying find moisturizer would dry skin months ...</td>\n",
       "      <td>[(trying, VBG), (find, NN), (moisturizer, NN),...</td>\n",
       "    </tr>\n",
       "  </tbody>\n",
       "</table>\n",
       "</div>"
      ],
      "text/plain": [
       "      product_id                                             review  \\\n",
       "0  4669755719749  This makes my skin smooth and soft and is ligh...   \n",
       "1  4669755719749  Love the silky texture. It's very lightweight ...   \n",
       "2  4669755719749  I’ve been trying to find a moisturizer that wo...   \n",
       "\n",
       "                                    review_sentiment  \\\n",
       "0  this makes my skin smooth and soft and is ligh...   \n",
       "1  love the silky texture its very lightweight bu...   \n",
       "2  i ve been trying to find a moisturizer that wo...   \n",
       "\n",
       "                                        review_clean  \\\n",
       "0  makes skin smooth soft lightweight absorbs qui...   \n",
       "1  love silky texture lightweight hydrating leave...   \n",
       "2  trying find moisturizer would dry skin months ...   \n",
       "\n",
       "                                            pos_tags  \n",
       "0  [(makes, VBZ), (skin, JJ), (smooth, JJ), (soft...  \n",
       "1  [(love, VB), (silky, JJ), (texture, NN), (ligh...  \n",
       "2  [(trying, VBG), (find, NN), (moisturizer, NN),...  "
      ]
     },
     "execution_count": 222,
     "metadata": {},
     "output_type": "execute_result"
    }
   ],
   "source": [
    "productReviews_df.head(3)"
   ]
  },
  {
   "cell_type": "code",
   "execution_count": null,
   "metadata": {},
   "outputs": [],
   "source": [
    "from nltk.corpus import wordnet\n",
    "nltk.download('wordnet')\n",
    "from nltk.stem import WordNetLemmatizer"
   ]
  },
  {
   "cell_type": "code",
   "execution_count": 223,
   "metadata": {},
   "outputs": [
    {
     "data": {
      "text/html": [
       "<div>\n",
       "<style scoped>\n",
       "    .dataframe tbody tr th:only-of-type {\n",
       "        vertical-align: middle;\n",
       "    }\n",
       "\n",
       "    .dataframe tbody tr th {\n",
       "        vertical-align: top;\n",
       "    }\n",
       "\n",
       "    .dataframe thead th {\n",
       "        text-align: right;\n",
       "    }\n",
       "</style>\n",
       "<table border=\"1\" class=\"dataframe\">\n",
       "  <thead>\n",
       "    <tr style=\"text-align: right;\">\n",
       "      <th></th>\n",
       "      <th>product_id</th>\n",
       "      <th>review</th>\n",
       "      <th>review_sentiment</th>\n",
       "      <th>review_clean</th>\n",
       "      <th>pos_tags</th>\n",
       "      <th>wordnet_pos</th>\n",
       "    </tr>\n",
       "  </thead>\n",
       "  <tbody>\n",
       "    <tr>\n",
       "      <th>0</th>\n",
       "      <td>4669755719749</td>\n",
       "      <td>This makes my skin smooth and soft and is ligh...</td>\n",
       "      <td>this makes my skin smooth and soft and is ligh...</td>\n",
       "      <td>makes skin smooth soft lightweight absorbs qui...</td>\n",
       "      <td>[(makes, VBZ), (skin, JJ), (smooth, JJ), (soft...</td>\n",
       "      <td>[(makes, v), (skin, a), (smooth, a), (soft, a)...</td>\n",
       "    </tr>\n",
       "    <tr>\n",
       "      <th>1</th>\n",
       "      <td>4669755719749</td>\n",
       "      <td>Love the silky texture. It's very lightweight ...</td>\n",
       "      <td>love the silky texture its very lightweight bu...</td>\n",
       "      <td>love silky texture lightweight hydrating leave...</td>\n",
       "      <td>[(love, VB), (silky, JJ), (texture, NN), (ligh...</td>\n",
       "      <td>[(love, v), (silky, a), (texture, n), (lightwe...</td>\n",
       "    </tr>\n",
       "    <tr>\n",
       "      <th>2</th>\n",
       "      <td>4669755719749</td>\n",
       "      <td>I’ve been trying to find a moisturizer that wo...</td>\n",
       "      <td>i ve been trying to find a moisturizer that wo...</td>\n",
       "      <td>trying find moisturizer would dry skin months ...</td>\n",
       "      <td>[(trying, VBG), (find, NN), (moisturizer, NN),...</td>\n",
       "      <td>[(trying, v), (find, n), (moisturizer, n), (wo...</td>\n",
       "    </tr>\n",
       "  </tbody>\n",
       "</table>\n",
       "</div>"
      ],
      "text/plain": [
       "      product_id                                             review  \\\n",
       "0  4669755719749  This makes my skin smooth and soft and is ligh...   \n",
       "1  4669755719749  Love the silky texture. It's very lightweight ...   \n",
       "2  4669755719749  I’ve been trying to find a moisturizer that wo...   \n",
       "\n",
       "                                    review_sentiment  \\\n",
       "0  this makes my skin smooth and soft and is ligh...   \n",
       "1  love the silky texture its very lightweight bu...   \n",
       "2  i ve been trying to find a moisturizer that wo...   \n",
       "\n",
       "                                        review_clean  \\\n",
       "0  makes skin smooth soft lightweight absorbs qui...   \n",
       "1  love silky texture lightweight hydrating leave...   \n",
       "2  trying find moisturizer would dry skin months ...   \n",
       "\n",
       "                                            pos_tags  \\\n",
       "0  [(makes, VBZ), (skin, JJ), (smooth, JJ), (soft...   \n",
       "1  [(love, VB), (silky, JJ), (texture, NN), (ligh...   \n",
       "2  [(trying, VBG), (find, NN), (moisturizer, NN),...   \n",
       "\n",
       "                                         wordnet_pos  \n",
       "0  [(makes, v), (skin, a), (smooth, a), (soft, a)...  \n",
       "1  [(love, v), (silky, a), (texture, n), (lightwe...  \n",
       "2  [(trying, v), (find, n), (moisturizer, n), (wo...  "
      ]
     },
     "execution_count": 223,
     "metadata": {},
     "output_type": "execute_result"
    }
   ],
   "source": [
    "def get_wordnet_pos(tag):\n",
    "    if tag.startswith('J'):\n",
    "        return wordnet.ADJ\n",
    "    elif tag.startswith('V'):\n",
    "        return wordnet.VERB\n",
    "    elif tag.startswith('N'):\n",
    "        return wordnet.NOUN\n",
    "    elif tag.startswith('R'):\n",
    "        return wordnet.ADV\n",
    "    else:\n",
    "        return wordnet.NOUN\n",
    "productReviews_df['wordnet_pos'] = productReviews_df['pos_tags'].apply(lambda x: [(word, get_wordnet_pos(pos_tag)) for (word, pos_tag) in x])\n",
    "productReviews_df.head(3)"
   ]
  },
  {
   "cell_type": "code",
   "execution_count": 224,
   "metadata": {},
   "outputs": [
    {
     "data": {
      "text/html": [
       "<div>\n",
       "<style scoped>\n",
       "    .dataframe tbody tr th:only-of-type {\n",
       "        vertical-align: middle;\n",
       "    }\n",
       "\n",
       "    .dataframe tbody tr th {\n",
       "        vertical-align: top;\n",
       "    }\n",
       "\n",
       "    .dataframe thead th {\n",
       "        text-align: right;\n",
       "    }\n",
       "</style>\n",
       "<table border=\"1\" class=\"dataframe\">\n",
       "  <thead>\n",
       "    <tr style=\"text-align: right;\">\n",
       "      <th></th>\n",
       "      <th>product_id</th>\n",
       "      <th>review</th>\n",
       "      <th>review_sentiment</th>\n",
       "      <th>review_clean</th>\n",
       "      <th>pos_tags</th>\n",
       "      <th>wordnet_pos</th>\n",
       "      <th>lemmatized</th>\n",
       "    </tr>\n",
       "  </thead>\n",
       "  <tbody>\n",
       "    <tr>\n",
       "      <th>0</th>\n",
       "      <td>4669755719749</td>\n",
       "      <td>This makes my skin smooth and soft and is ligh...</td>\n",
       "      <td>this makes my skin smooth and soft and is ligh...</td>\n",
       "      <td>makes skin smooth soft lightweight absorbs qui...</td>\n",
       "      <td>[(makes, VBZ), (skin, JJ), (smooth, JJ), (soft...</td>\n",
       "      <td>[(makes, v), (skin, a), (smooth, a), (soft, a)...</td>\n",
       "      <td>[make, skin, smooth, soft, lightweight, absorb...</td>\n",
       "    </tr>\n",
       "    <tr>\n",
       "      <th>1</th>\n",
       "      <td>4669755719749</td>\n",
       "      <td>Love the silky texture. It's very lightweight ...</td>\n",
       "      <td>love the silky texture its very lightweight bu...</td>\n",
       "      <td>love silky texture lightweight hydrating leave...</td>\n",
       "      <td>[(love, VB), (silky, JJ), (texture, NN), (ligh...</td>\n",
       "      <td>[(love, v), (silky, a), (texture, n), (lightwe...</td>\n",
       "      <td>[love, silky, texture, lightweight, hydrate, l...</td>\n",
       "    </tr>\n",
       "    <tr>\n",
       "      <th>2</th>\n",
       "      <td>4669755719749</td>\n",
       "      <td>I’ve been trying to find a moisturizer that wo...</td>\n",
       "      <td>i ve been trying to find a moisturizer that wo...</td>\n",
       "      <td>trying find moisturizer would dry skin months ...</td>\n",
       "      <td>[(trying, VBG), (find, NN), (moisturizer, NN),...</td>\n",
       "      <td>[(trying, v), (find, n), (moisturizer, n), (wo...</td>\n",
       "      <td>[try, find, moisturizer, would, dry, skin, mon...</td>\n",
       "    </tr>\n",
       "  </tbody>\n",
       "</table>\n",
       "</div>"
      ],
      "text/plain": [
       "      product_id                                             review  \\\n",
       "0  4669755719749  This makes my skin smooth and soft and is ligh...   \n",
       "1  4669755719749  Love the silky texture. It's very lightweight ...   \n",
       "2  4669755719749  I’ve been trying to find a moisturizer that wo...   \n",
       "\n",
       "                                    review_sentiment  \\\n",
       "0  this makes my skin smooth and soft and is ligh...   \n",
       "1  love the silky texture its very lightweight bu...   \n",
       "2  i ve been trying to find a moisturizer that wo...   \n",
       "\n",
       "                                        review_clean  \\\n",
       "0  makes skin smooth soft lightweight absorbs qui...   \n",
       "1  love silky texture lightweight hydrating leave...   \n",
       "2  trying find moisturizer would dry skin months ...   \n",
       "\n",
       "                                            pos_tags  \\\n",
       "0  [(makes, VBZ), (skin, JJ), (smooth, JJ), (soft...   \n",
       "1  [(love, VB), (silky, JJ), (texture, NN), (ligh...   \n",
       "2  [(trying, VBG), (find, NN), (moisturizer, NN),...   \n",
       "\n",
       "                                         wordnet_pos  \\\n",
       "0  [(makes, v), (skin, a), (smooth, a), (soft, a)...   \n",
       "1  [(love, v), (silky, a), (texture, n), (lightwe...   \n",
       "2  [(trying, v), (find, n), (moisturizer, n), (wo...   \n",
       "\n",
       "                                          lemmatized  \n",
       "0  [make, skin, smooth, soft, lightweight, absorb...  \n",
       "1  [love, silky, texture, lightweight, hydrate, l...  \n",
       "2  [try, find, moisturizer, would, dry, skin, mon...  "
      ]
     },
     "execution_count": 224,
     "metadata": {},
     "output_type": "execute_result"
    }
   ],
   "source": [
    "wnl = WordNetLemmatizer()\n",
    "productReviews_df['lemmatized'] = productReviews_df['wordnet_pos'].apply(lambda x: [wnl.lemmatize(word, tag) for word, tag in x])\n",
    "productReviews_df.head(3)"
   ]
  },
  {
   "cell_type": "code",
   "execution_count": 225,
   "metadata": {},
   "outputs": [],
   "source": [
    "def listToString(s): \n",
    "    # initialize an empty string\n",
    "    str1 = \" \" \n",
    "    \n",
    "    # return string  \n",
    "    return (str1.join(s))"
   ]
  },
  {
   "cell_type": "code",
   "execution_count": 226,
   "metadata": {},
   "outputs": [],
   "source": [
    "productReviews_df[\"review_similarity\"]= productReviews_df[\"lemmatized\"].apply(lambda x: \" \".join(i for i in x))"
   ]
  },
  {
   "cell_type": "code",
   "execution_count": 227,
   "metadata": {},
   "outputs": [
    {
     "data": {
      "text/html": [
       "<div>\n",
       "<style scoped>\n",
       "    .dataframe tbody tr th:only-of-type {\n",
       "        vertical-align: middle;\n",
       "    }\n",
       "\n",
       "    .dataframe tbody tr th {\n",
       "        vertical-align: top;\n",
       "    }\n",
       "\n",
       "    .dataframe thead th {\n",
       "        text-align: right;\n",
       "    }\n",
       "</style>\n",
       "<table border=\"1\" class=\"dataframe\">\n",
       "  <thead>\n",
       "    <tr style=\"text-align: right;\">\n",
       "      <th></th>\n",
       "      <th>product_id</th>\n",
       "      <th>review</th>\n",
       "      <th>review_sentiment</th>\n",
       "      <th>review_clean</th>\n",
       "      <th>pos_tags</th>\n",
       "      <th>wordnet_pos</th>\n",
       "      <th>lemmatized</th>\n",
       "      <th>review_similarity</th>\n",
       "    </tr>\n",
       "  </thead>\n",
       "  <tbody>\n",
       "    <tr>\n",
       "      <th>0</th>\n",
       "      <td>4669755719749</td>\n",
       "      <td>This makes my skin smooth and soft and is ligh...</td>\n",
       "      <td>this makes my skin smooth and soft and is ligh...</td>\n",
       "      <td>makes skin smooth soft lightweight absorbs qui...</td>\n",
       "      <td>[(makes, VBZ), (skin, JJ), (smooth, JJ), (soft...</td>\n",
       "      <td>[(makes, v), (skin, a), (smooth, a), (soft, a)...</td>\n",
       "      <td>[make, skin, smooth, soft, lightweight, absorb...</td>\n",
       "      <td>make skin smooth soft lightweight absorbs quickly</td>\n",
       "    </tr>\n",
       "    <tr>\n",
       "      <th>1</th>\n",
       "      <td>4669755719749</td>\n",
       "      <td>Love the silky texture. It's very lightweight ...</td>\n",
       "      <td>love the silky texture its very lightweight bu...</td>\n",
       "      <td>love silky texture lightweight hydrating leave...</td>\n",
       "      <td>[(love, VB), (silky, JJ), (texture, NN), (ligh...</td>\n",
       "      <td>[(love, v), (silky, a), (texture, n), (lightwe...</td>\n",
       "      <td>[love, silky, texture, lightweight, hydrate, l...</td>\n",
       "      <td>love silky texture lightweight hydrate leaf sk...</td>\n",
       "    </tr>\n",
       "    <tr>\n",
       "      <th>2</th>\n",
       "      <td>4669755719749</td>\n",
       "      <td>I’ve been trying to find a moisturizer that wo...</td>\n",
       "      <td>i ve been trying to find a moisturizer that wo...</td>\n",
       "      <td>trying find moisturizer would dry skin months ...</td>\n",
       "      <td>[(trying, VBG), (find, NN), (moisturizer, NN),...</td>\n",
       "      <td>[(trying, v), (find, n), (moisturizer, n), (wo...</td>\n",
       "      <td>[try, find, moisturizer, would, dry, skin, mon...</td>\n",
       "      <td>try find moisturizer would dry skin month espe...</td>\n",
       "    </tr>\n",
       "  </tbody>\n",
       "</table>\n",
       "</div>"
      ],
      "text/plain": [
       "      product_id                                             review  \\\n",
       "0  4669755719749  This makes my skin smooth and soft and is ligh...   \n",
       "1  4669755719749  Love the silky texture. It's very lightweight ...   \n",
       "2  4669755719749  I’ve been trying to find a moisturizer that wo...   \n",
       "\n",
       "                                    review_sentiment  \\\n",
       "0  this makes my skin smooth and soft and is ligh...   \n",
       "1  love the silky texture its very lightweight bu...   \n",
       "2  i ve been trying to find a moisturizer that wo...   \n",
       "\n",
       "                                        review_clean  \\\n",
       "0  makes skin smooth soft lightweight absorbs qui...   \n",
       "1  love silky texture lightweight hydrating leave...   \n",
       "2  trying find moisturizer would dry skin months ...   \n",
       "\n",
       "                                            pos_tags  \\\n",
       "0  [(makes, VBZ), (skin, JJ), (smooth, JJ), (soft...   \n",
       "1  [(love, VB), (silky, JJ), (texture, NN), (ligh...   \n",
       "2  [(trying, VBG), (find, NN), (moisturizer, NN),...   \n",
       "\n",
       "                                         wordnet_pos  \\\n",
       "0  [(makes, v), (skin, a), (smooth, a), (soft, a)...   \n",
       "1  [(love, v), (silky, a), (texture, n), (lightwe...   \n",
       "2  [(trying, v), (find, n), (moisturizer, n), (wo...   \n",
       "\n",
       "                                          lemmatized  \\\n",
       "0  [make, skin, smooth, soft, lightweight, absorb...   \n",
       "1  [love, silky, texture, lightweight, hydrate, l...   \n",
       "2  [try, find, moisturizer, would, dry, skin, mon...   \n",
       "\n",
       "                                   review_similarity  \n",
       "0  make skin smooth soft lightweight absorbs quickly  \n",
       "1  love silky texture lightweight hydrate leaf sk...  \n",
       "2  try find moisturizer would dry skin month espe...  "
      ]
     },
     "execution_count": 227,
     "metadata": {},
     "output_type": "execute_result"
    }
   ],
   "source": [
    "productReviews_df.head(3)"
   ]
  },
  {
   "cell_type": "code",
   "execution_count": null,
   "metadata": {},
   "outputs": [],
   "source": [
    "productReviews_df= productReviews_df.reset_index(drop = True)"
   ]
  },
  {
   "cell_type": "code",
   "execution_count": null,
   "metadata": {},
   "outputs": [],
   "source": [
    "productReviews_df.shape"
   ]
  },
  {
   "cell_type": "code",
   "execution_count": null,
   "metadata": {},
   "outputs": [],
   "source": [
    "productReviews_df"
   ]
  },
  {
   "cell_type": "markdown",
   "metadata": {},
   "source": [
    "#### Fake review detection"
   ]
  },
  {
   "cell_type": "markdown",
   "metadata": {},
   "source": [
    "50 most common words"
   ]
  },
  {
   "cell_type": "code",
   "execution_count": null,
   "metadata": {},
   "outputs": [],
   "source": [
    "from collections import Counter\n",
    "\n",
    "aggregate_counter = Counter()\n",
    "for row_index,row in productReviews_df.iterrows():\n",
    "    c = Counter(row['review_similarity'].split())\n",
    "    aggregate_counter += c\n",
    "\n",
    "common_words = [word[0] for word in aggregate_counter.most_common()]\n",
    "common_words_counts = [word[1] for word in aggregate_counter.most_common()]"
   ]
  },
  {
   "cell_type": "code",
   "execution_count": null,
   "metadata": {},
   "outputs": [],
   "source": [
    "common_word = pd.DataFrame(list(zip(common_words, common_words_counts)),columns =['Word', 'Freq'])\n",
    "common_word.to_csv('common_word.csv')"
   ]
  },
  {
   "cell_type": "markdown",
   "metadata": {},
   "source": [
    "No word Embeddings because we are not trying to find the contextual meaning"
   ]
  },
  {
   "cell_type": "code",
   "execution_count": null,
   "metadata": {},
   "outputs": [],
   "source": [
    "from sklearn.feature_extraction.text import TfidfVectorizer\n",
    "# Create array with each text\n",
    "data_arr = np.array(productReviews_df['review_similarity'].values.astype(\"U\"))\n",
    "\n",
    "# Create the tf-idf feature matrix\n",
    "tfidf = TfidfVectorizer()\n",
    "feature = tfidf.fit_transform(data_arr)\n",
    "\n",
    "# Show feature matrix\n",
    "feature"
   ]
  },
  {
   "cell_type": "code",
   "execution_count": null,
   "metadata": {},
   "outputs": [],
   "source": [
    "#create dataframe\n",
    "X=pd.DataFrame(feature.toarray())\n",
    "tfidf2 = X.values.tolist()"
   ]
  },
  {
   "cell_type": "code",
   "execution_count": null,
   "metadata": {},
   "outputs": [],
   "source": [
    "from sklearn.metrics.pairwise import cosine_similarity\n",
    "cosine_sim = cosine_similarity(feature)\n",
    "Y=pd.DataFrame(cosine_sim)"
   ]
  },
  {
   "cell_type": "markdown",
   "metadata": {},
   "source": [
    "#### Checking if there is any similar reviews"
   ]
  },
  {
   "cell_type": "code",
   "execution_count": null,
   "metadata": {},
   "outputs": [],
   "source": [
    "for col in Y.columns:\n",
    "    if any(Y[col] > 80):\n",
    "        print(\"True\")       "
   ]
  },
  {
   "cell_type": "markdown",
   "metadata": {},
   "source": [
    "Fuzzy Matching for Feature Extraction from revies and User preference"
   ]
  },
  {
   "cell_type": "code",
   "execution_count": null,
   "metadata": {},
   "outputs": [],
   "source": [
    "from sklearn.feature_extraction.text import CountVectorizer\n",
    "\n",
    "\n",
    "features = productReviews_df[\"review_similarity\"].tolist() \n",
    "CountVec = CountVectorizer()\n",
    "#transform\n",
    "Count_data = CountVec.fit_transform(features)\n",
    "Count_data"
   ]
  },
  {
   "cell_type": "code",
   "execution_count": null,
   "metadata": {},
   "outputs": [],
   "source": [
    "#create dataframe\n",
    "cv_dataframe=pd.DataFrame(Count_data.toarray(),columns=CountVec.get_feature_names())"
   ]
  },
  {
   "cell_type": "code",
   "execution_count": null,
   "metadata": {},
   "outputs": [],
   "source": [
    "words = pd.DataFrame(cv_dataframe.idxmax(1),columns=['word'])"
   ]
  },
  {
   "cell_type": "code",
   "execution_count": null,
   "metadata": {},
   "outputs": [],
   "source": [
    "from fuzzywuzzy import process, fuzz"
   ]
  },
  {
   "cell_type": "code",
   "execution_count": null,
   "metadata": {},
   "outputs": [],
   "source": [
    "def token_fuzzy(df, percent, scorer):\n",
    "    \n",
    "    # unique industry lists\n",
    "    unique_word = df['word'].unique().tolist()\n",
    "    sorted(unique_word)\n",
    "    \n",
    "    '''Token Ratio'''\n",
    "    #Create tuples of industries, matched industries, and the score of token sort\n",
    "    score = [(x,) + i\n",
    "             for x in unique_word \n",
    "             for i in process.extract(x, unique_word, scorer=scorer)]\n",
    "\n",
    "    #Create a dataframe from the tuples\n",
    "    similarity = pd.DataFrame(score, columns=['word','match','score'])\n",
    "\n",
    "    # because this will have repitative pairs, we will remove duplicated pairs from this\n",
    "    similarity['sorted_word'] = np.minimum(similarity['word'], similarity['match'])\n",
    "    \n",
    "    # Token high score\n",
    "    high_score = token_high(similarity, percent)\n",
    "    \n",
    "    \n",
    "    return similarity, high_score"
   ]
  },
  {
   "cell_type": "code",
   "execution_count": null,
   "metadata": {},
   "outputs": [],
   "source": [
    "def token_high(df, percent):\n",
    "    \n",
    "    # create a subset dataframe with higher percent match values\n",
    "    x = percent+2\n",
    "    high_score = df[(df['score'] >= percent) &\n",
    "                    (x > df['score']) &\n",
    "                    (df['word'] !=  df['match']) &\n",
    "                    (df['sorted_word'] != df['match'])]\n",
    "    \n",
    "    # Drop the representative value column\n",
    "    high_score = high_score.drop('sorted_word',axis=1).copy()\n",
    "    \n",
    "    return high_score"
   ]
  },
  {
   "cell_type": "code",
   "execution_count": null,
   "metadata": {},
   "outputs": [],
   "source": [
    "similarity, high_score = token_fuzzy(words, 95, fuzz.token_sort_ratio)\n",
    "high_score.groupby(['word','score']).agg({'match': ', '.join}).sort_values(['score'], ascending=False)\n",
    "\n",
    "# create dictionary\n",
    "match_dict = dict(zip(high_score.match, high_score.word))\n",
    "match_dict"
   ]
  },
  {
   "cell_type": "code",
   "execution_count": 130,
   "metadata": {},
   "outputs": [],
   "source": [
    "match_dict['moisturizers'] = 'moisturize'\n",
    "match_dict['fragranced'] = 'fragrance'\n",
    "match_dict['afterwards'] = 'afterward'\n",
    "match_dict['exfoliators'] = 'exfoliator'\n",
    "match_dict['moisturizes'] = 'moisturize'\n",
    "match_dict['moisturizer'] = 'moisturize'"
   ]
  },
  {
   "cell_type": "code",
   "execution_count": 131,
   "metadata": {},
   "outputs": [],
   "source": [
    "words[\"word\"].replace(match_dict, inplace=True)"
   ]
  },
  {
   "cell_type": "code",
   "execution_count": 132,
   "metadata": {},
   "outputs": [
    {
     "data": {
      "text/plain": [
       "{'favorites': 'favorite',\n",
       " 'breakouts': 'breakout',\n",
       " 'cleanser': 'cleaner',\n",
       " 'hydrated': 'hydrate',\n",
       " 'believer': 'believe',\n",
       " 'brightens': 'brighten',\n",
       " 'absored': 'absorbed',\n",
       " 'exellent': 'excellent',\n",
       " 'collagen': 'collage',\n",
       " 'loveeeee': 'loveeee',\n",
       " 'delivers': 'deliver',\n",
       " 'acnewell': 'acewell',\n",
       " 'cleansing': 'cleaning',\n",
       " 'complaint': 'complain',\n",
       " 'excellent': 'excelent'}"
      ]
     },
     "execution_count": 132,
     "metadata": {},
     "output_type": "execute_result"
    }
   ],
   "source": [
    "similarity, high_score = token_fuzzy(words, 93, fuzz.token_sort_ratio)\n",
    "high_score.groupby(['word','score']).agg({'match': ', '.join}).sort_values(['score'], ascending=False)\n",
    "# create dictionary\n",
    "match_dict = dict(zip(high_score.match, high_score.word))\n",
    "match_dict"
   ]
  },
  {
   "cell_type": "code",
   "execution_count": 133,
   "metadata": {},
   "outputs": [],
   "source": [
    "match_dict['favorites'] = 'favorite'\n",
    "match_dict['breakouts'] = 'breakout'\n",
    "del match_dict['cleanser']\n",
    "match_dict['hydrated'] = 'hydrate'\n",
    "del match_dict['believer']\n",
    "match_dict['brightens'] = 'brighten'\n",
    "match_dict['absored'] = 'absorb'\n",
    "match_dict['exellent'] = 'excellent'\n",
    "del match_dict['collagen']\n",
    "match_dict['loveeeee'] = 'love'\n",
    "match_dict['delivers'] = 'deliver'\n",
    "match_dict['cleansing'] = 'cleanse'\n",
    "match_dict['complaint'] = 'complain'\n",
    "del match_dict['excellent']"
   ]
  },
  {
   "cell_type": "code",
   "execution_count": 134,
   "metadata": {},
   "outputs": [],
   "source": [
    "words[\"word\"].replace(match_dict, inplace=True)\n",
    "words[\"word\"].replace({'collage': 'collagen', 'excelent': 'excellent'}, inplace=True)"
   ]
  },
  {
   "cell_type": "code",
   "execution_count": 135,
   "metadata": {},
   "outputs": [
    {
     "data": {
      "text/plain": [
       "{'amazed': 'amaze',\n",
       " 'creamy': 'cream',\n",
       " 'changer': 'change',\n",
       " 'absorbs': 'absorb',\n",
       " 'right': 'bright',\n",
       " 'little': 'alittle',\n",
       " 'ampule': 'ampoule',\n",
       " 'lightwieght': 'lightweight',\n",
       " 'maskne': 'maskcne',\n",
       " 'dissapointed': 'disappointed',\n",
       " 'product': 'produc',\n",
       " 'disappointed': 'disappoint',\n",
       " 'citrusy': 'citrus',\n",
       " 'broken': 'broke',\n",
       " 'acwell': 'acewell',\n",
       " 'loveeee': 'loveee',\n",
       " 'chunky': 'chunk',\n",
       " 'sticky': 'stick',\n",
       " 'comfortably': 'comfortable'}"
      ]
     },
     "execution_count": 135,
     "metadata": {},
     "output_type": "execute_result"
    }
   ],
   "source": [
    "similarity, high_score = token_fuzzy(words, 91, fuzz.token_sort_ratio)\n",
    "high_score.groupby(['word','score']).agg({'match': ', '.join}).sort_values(['score'], ascending=False)\n",
    "# create dictionary\n",
    "match_dict = dict(zip(high_score.match, high_score.word))\n",
    "match_dict"
   ]
  },
  {
   "cell_type": "code",
   "execution_count": 136,
   "metadata": {},
   "outputs": [],
   "source": [
    "match_dict['amazed'] = 'amaze'\n",
    "match_dict['creamy'] = 'cream'\n",
    "match_dict['changer'] = 'change'\n",
    "match_dict['absorbs'] = 'absorb'\n",
    "del match_dict['right']\n",
    "del match_dict['little']\n",
    "match_dict['ampule'] = 'ampoule'\n",
    "match_dict['lightwieght'] ='lightweight'\n",
    "match_dict['maskne'] = 'mask'\n",
    "match_dict['dissapointed'] = 'disappoint'\n",
    "del match_dict['product']\n",
    "match_dict['disappointed'] = 'disappoint'\n",
    "match_dict['citrusy'] ='citrus'\n",
    "match_dict['broken'] =  'broke'\n",
    "match_dict['acwell'] = 'acewell'\n",
    "match_dict['loveeee'] = 'love'\n",
    "match_dict['chunky'] =  'chunk'\n",
    "match_dict['sticky'] = 'stick'\n",
    "match_dict['comfortably'] = 'comfortable'"
   ]
  },
  {
   "cell_type": "code",
   "execution_count": 137,
   "metadata": {},
   "outputs": [],
   "source": [
    "words[\"word\"].replace(match_dict, inplace=True)\n",
    "words[\"word\"].replace({'produc': 'product'}, inplace=True)"
   ]
  },
  {
   "cell_type": "code",
   "execution_count": 138,
   "metadata": {},
   "outputs": [],
   "source": [
    "similarity, high_score = token_fuzzy(words, 89, fuzz.token_sort_ratio)\n",
    "high_score.groupby(['word','score']).agg({'match': ', '.join}).sort_values(['score'], ascending=False)\n",
    "# create dictionary\n",
    "match_dict = dict(zip(high_score.match, high_score.word))"
   ]
  },
  {
   "cell_type": "code",
   "execution_count": 140,
   "metadata": {},
   "outputs": [],
   "source": [
    "del match_dict['could']\n",
    "match_dict['crem']='cream'\n",
    "match_dict['feels']= 'feel'\n",
    "match_dict['liked']= 'like'\n",
    "match_dict['calms']= 'calm'\n",
    "del match_dict['black']\n",
    "match_dict['absolutley'] ='absolute'\n",
    "match_dict['effectively'] = 'effective'\n",
    "del match_dict['caste']\n",
    "match_dict['beautifully'] = 'beautiful'\n",
    "del match_dict['least']\n",
    "match_dict['glowy']= 'glow'\n",
    "del match_dict['boot']\n",
    "match_dict['hyper']= 'hype'\n",
    "match_dict['balms']= 'balm'\n",
    "match_dict['balmy']= 'balm'\n",
    "match_dict['absolutely']= 'absolute'\n",
    "match_dict['bumpy']= 'bump'\n",
    "match_dict['bumps']= 'bump'\n",
    "match_dict['additional']= 'addition'\n",
    "del match_dict['rise']\n",
    "del match_dict['every']\n",
    "del match_dict['never']\n",
    "del match_dict['long']\n",
    "match_dict['definitely']= 'definite'\n",
    "del match_dict['side']\n",
    "match_dict['hydration'] = 'hydrate'\n",
    "del match_dict['live']\n",
    "del match_dict['repurchase']\n",
    "match_dict['efficiently'] = 'efficient'\n",
    "match_dict['faves']= 'fave'\n",
    "match_dict['heals']='heal'\n",
    "del match_dict['start']\n",
    "del match_dict['dewy']\n",
    "del match_dict['cheap']\n",
    "match_dict['smell']= 'mell'\n",
    "del match_dict['part']\n",
    "del match_dict['lock']\n",
    "del match_dict['absorption']\n",
    "del match_dict['exfoliate']\n",
    "del match_dict['alone']\n",
    "match_dict['alove'] = 'love'\n",
    "del match_dict['cost']\n",
    "match_dict['ready']\n",
    "match_dict['alternative']= 'alternate'\n",
    "match_dict['alternately'] = 'alternate'\n",
    "del match_dict['cause']\n",
    "match_dict['toner']= 'tone'\n",
    "del match_dict['moisturize']\n",
    "del match_dict['creme']\n",
    "del match_dict['love']\n",
    "match_dict['fabulously']='fabulous'\n"
   ]
  },
  {
   "cell_type": "code",
   "execution_count": 141,
   "metadata": {},
   "outputs": [],
   "source": [
    "words[\"word\"].replace(match_dict, inplace=True)\n",
    "words[\"word\"].replace({'dewey': 'dewy', 'absorbtion':'absorption','exfoliant':'exfoliate' }, inplace=True)"
   ]
  },
  {
   "cell_type": "code",
   "execution_count": 142,
   "metadata": {},
   "outputs": [
    {
     "data": {
      "text/plain": [
       "{'clesanses': 'cleanse',\n",
       " 'amazingly': 'amazing',\n",
       " 'brighter': 'brighten',\n",
       " 'container': 'contain',\n",
       " 'perfectly': 'perfect',\n",
       " 'advertise': 'adverse',\n",
       " 'certainly': 'certain',\n",
       " 'instantly': 'instant',\n",
       " 'disappointing': 'disappoint',\n",
       " 'hydrate': 'dehydrate',\n",
       " 'currently': 'current'}"
      ]
     },
     "execution_count": 142,
     "metadata": {},
     "output_type": "execute_result"
    }
   ],
   "source": [
    "similarity, high_score = token_fuzzy(words, 87, fuzz.token_sort_ratio)\n",
    "high_score.groupby(['word','score']).agg({'match': ', '.join}).sort_values(['score'], ascending=False)\n",
    "# create dictionary\n",
    "match_dict = dict(zip(high_score.match, high_score.word))\n",
    "match_dict"
   ]
  },
  {
   "cell_type": "code",
   "execution_count": 143,
   "metadata": {},
   "outputs": [],
   "source": [
    "match_dict['clesanses']= 'cleanse'\n",
    "match_dict['amazingly']= 'amazing'\n",
    "match_dict['brighter']= 'brighten'\n",
    "del match_dict['container']\n",
    "match_dict['perfectly']='perfect'\n",
    "del match_dict['advertise']\n",
    "del match_dict['certainly']\n",
    "match_dict['instantly']= 'instant'\n",
    "del match_dict['hydrate']\n",
    "match_dict['currently']='current'"
   ]
  },
  {
   "cell_type": "code",
   "execution_count": 144,
   "metadata": {},
   "outputs": [],
   "source": [
    "words[\"word\"].replace(match_dict, inplace=True)\n",
    "words[\"word\"].replace({'dehydration': 'dehydrate', 'cleanser': 'cleanse'}, inplace=True)"
   ]
  },
  {
   "cell_type": "code",
   "execution_count": 145,
   "metadata": {},
   "outputs": [],
   "source": [
    "similarity, high_score = token_fuzzy(words, 85, fuzz.token_sort_ratio)\n",
    "high_score.groupby(['word','score']).agg({'match': ', '.join}).sort_values(['score'], ascending=False)\n",
    "# create dictionary\n",
    "match_dict = dict(zip(high_score.match, high_score.word))"
   ]
  },
  {
   "cell_type": "code",
   "execution_count": 146,
   "metadata": {},
   "outputs": [],
   "source": [
    "words[\"word\"].replace({'absorbed': 'absorb', 'consistent': 'consistency','wrk': 'work','clearer': \n",
    "                       'clear','clean': 'clear','cleaner':'clear','brighten': 'bright','applied': 'apply',\n",
    "                       'applies': 'apply','actually': 'actual','fave': 'fav','friendly': 'friend',\n",
    "                       'lot': 'alot','glowing':'glow', 'moisturiser':'moisturize'}, inplace=True)"
   ]
  },
  {
   "cell_type": "code",
   "execution_count": 147,
   "metadata": {},
   "outputs": [],
   "source": [
    "similarity, high_score = token_fuzzy(words, 83, fuzz.token_sort_ratio)\n",
    "high_score.groupby(['word','score']).agg({'match': ', '.join}).sort_values(['score'], ascending=False)\n",
    "# create dictionary\n",
    "match_dict = dict(zip(high_score.match, high_score.word))"
   ]
  },
  {
   "cell_type": "code",
   "execution_count": 113,
   "metadata": {},
   "outputs": [
    {
     "data": {
      "text/plain": [
       "{'charge': 'change',\n",
       " 'thing': 'nothing',\n",
       " 'different': 'difference',\n",
       " 'lighten': 'light',\n",
       " 'enjoyed': 'enjoy',\n",
       " 'extract': 'extra',\n",
       " 'cover': 'convert',\n",
       " 'appear': 'apparu',\n",
       " 'couldnt': 'could',\n",
       " 'sticker': 'stick',\n",
       " 'refresh': 'fresh',\n",
       " 'freshly': 'fresh',\n",
       " 'freshen': 'fresh',\n",
       " 'bitter': 'better',\n",
       " 'gently': 'gentle',\n",
       " 'cumple': 'couple',\n",
       " 'summer': 'bummer',\n",
       " 'pigmentation': 'hyperpigmentation',\n",
       " 'nightly': 'night',\n",
       " 'effect': 'affect',\n",
       " 'exfoliator': 'exfoliate',\n",
       " 'others': 'bother',\n",
       " 'bring': 'bearing',\n",
       " 'soothe': 'smooth',\n",
       " 'burning': 'bring',\n",
       " 'least': 'atleast',\n",
       " 'light': 'alright',\n",
       " 'right': 'alright'}"
      ]
     },
     "execution_count": 113,
     "metadata": {},
     "output_type": "execute_result"
    }
   ],
   "source": [
    "match_dict"
   ]
  },
  {
   "cell_type": "code",
   "execution_count": 114,
   "metadata": {},
   "outputs": [],
   "source": [
    "words[\"word\"].replace({'lighten': 'light','enjoyed': 'enjoy','sticker': 'stick','refresh': 'fresh',\n",
    "                       'freshly': 'fresh','freshen': 'fresh','gently': 'gentle','nightly': 'night',\n",
    "                       'exfoliator': 'exfoliate','moisturiser': 'moisturize',}, inplace=True)"
   ]
  },
  {
   "cell_type": "code",
   "execution_count": 115,
   "metadata": {},
   "outputs": [],
   "source": [
    "similarity, high_score = token_fuzzy(words, 81, fuzz.token_sort_ratio)\n",
    "high_score.groupby(['word','score']).agg({'match': ', '.join}).sort_values(['score'], ascending=False)\n",
    "# create dictionary\n",
    "match_dict = dict(zip(high_score.match, high_score.word))"
   ]
  },
  {
   "cell_type": "code",
   "execution_count": 116,
   "metadata": {},
   "outputs": [
    {
     "data": {
      "text/plain": [
       "{'moisturizing': 'moisturize',\n",
       " 'fragrant': 'fragrance',\n",
       " 'continue': 'container',\n",
       " 'irritate': 'irradiate'}"
      ]
     },
     "execution_count": 116,
     "metadata": {},
     "output_type": "execute_result"
    }
   ],
   "source": [
    "match_dict"
   ]
  },
  {
   "cell_type": "code",
   "execution_count": 117,
   "metadata": {},
   "outputs": [],
   "source": [
    "words[\"word\"].replace({'moisturizing': 'moisturize','fragrant': 'fragrance'}, inplace=True)"
   ]
  },
  {
   "cell_type": "code",
   "execution_count": 118,
   "metadata": {},
   "outputs": [],
   "source": [
    "similarity, high_score = token_fuzzy(words, 79, fuzz.token_sort_ratio)\n",
    "high_score.groupby(['word','score']).agg({'match': ', '.join}).sort_values(['score'], ascending=False)\n",
    "# create dictionary\n",
    "match_dict = dict(zip(high_score.match, high_score.word))"
   ]
  },
  {
   "cell_type": "code",
   "execution_count": 119,
   "metadata": {},
   "outputs": [],
   "source": [
    "words[\"word\"].replace({'absorbent': 'absorb','lovely': 'love','loveee': 'love',\n",
    "                       'screen': 'sunscreen','disappointing': 'disappointed',}, inplace=True)"
   ]
  },
  {
   "cell_type": "code",
   "execution_count": 120,
   "metadata": {},
   "outputs": [],
   "source": [
    "similarity, high_score = token_fuzzy(words, 77, fuzz.token_sort_ratio)\n",
    "high_score.groupby(['word','score']).agg({'match': ', '.join}).sort_values(['score'], ascending=False)\n",
    "# create dictionary\n",
    "match_dict = dict(zip(high_score.match, high_score.word))"
   ]
  },
  {
   "cell_type": "code",
   "execution_count": 121,
   "metadata": {},
   "outputs": [],
   "source": [
    "words[\"word\"].replace({'applying': 'apply','breaking': 'break','lightyet': 'light','improvement': 'improve',\n",
    "                       'purchasing': 'purchase','comfortable': 'comfort', 'becausee':'because','irritation': 'irritate',\n",
    "                       'fav': 'fave','annoying': 'annoy','amaaaaazing': 'amazing',}, inplace=True)"
   ]
  },
  {
   "cell_type": "code",
   "execution_count": 122,
   "metadata": {},
   "outputs": [],
   "source": [
    "similarity, high_score = token_fuzzy(words, 75, fuzz.token_sort_ratio)\n",
    "high_score.groupby(['word','score']).agg({'match': ', '.join}).sort_values(['score'], ascending=False)\n",
    "# create dictionary\n",
    "match_dict = dict(zip(high_score.match, high_score.word))"
   ]
  },
  {
   "cell_type": "code",
   "execution_count": 123,
   "metadata": {},
   "outputs": [],
   "source": [
    "words[\"word\"].replace({'buyyy': 'buy','felt': 'feel','badly': 'bad','added': 'add','mell': 'smell','feek': 'feel',\n",
    "                       'timy': 'tiny','wowed': 'wow','agin': 'aging','brightness': 'bright','adjustment': 'adjust','adjustable': 'adjust'}, inplace=True)"
   ]
  },
  {
   "cell_type": "code",
   "execution_count": 162,
   "metadata": {},
   "outputs": [
    {
     "data": {
      "text/html": [
       "<div>\n",
       "<style scoped>\n",
       "    .dataframe tbody tr th:only-of-type {\n",
       "        vertical-align: middle;\n",
       "    }\n",
       "\n",
       "    .dataframe tbody tr th {\n",
       "        vertical-align: top;\n",
       "    }\n",
       "\n",
       "    .dataframe thead th {\n",
       "        text-align: right;\n",
       "    }\n",
       "</style>\n",
       "<table border=\"1\" class=\"dataframe\">\n",
       "  <thead>\n",
       "    <tr style=\"text-align: right;\">\n",
       "      <th></th>\n",
       "      <th></th>\n",
       "    </tr>\n",
       "  </thead>\n",
       "  <tbody>\n",
       "    <tr>\n",
       "      <th>0</th>\n",
       "      <td>absorb</td>\n",
       "    </tr>\n",
       "    <tr>\n",
       "      <th>1</th>\n",
       "      <td>also</td>\n",
       "    </tr>\n",
       "    <tr>\n",
       "      <th>2</th>\n",
       "      <td>try</td>\n",
       "    </tr>\n",
       "    <tr>\n",
       "      <th>3</th>\n",
       "      <td>buy</td>\n",
       "    </tr>\n",
       "    <tr>\n",
       "      <th>4</th>\n",
       "      <td>cold</td>\n",
       "    </tr>\n",
       "    <tr>\n",
       "      <th>...</th>\n",
       "      <td>...</td>\n",
       "    </tr>\n",
       "    <tr>\n",
       "      <th>14557</th>\n",
       "      <td>use</td>\n",
       "    </tr>\n",
       "    <tr>\n",
       "      <th>14558</th>\n",
       "      <td>day</td>\n",
       "    </tr>\n",
       "    <tr>\n",
       "      <th>14559</th>\n",
       "      <td>nice</td>\n",
       "    </tr>\n",
       "    <tr>\n",
       "      <th>14560</th>\n",
       "      <td>doesnt</td>\n",
       "    </tr>\n",
       "    <tr>\n",
       "      <th>14561</th>\n",
       "      <td>areasmof</td>\n",
       "    </tr>\n",
       "  </tbody>\n",
       "</table>\n",
       "<p>14562 rows × 1 columns</p>\n",
       "</div>"
      ],
      "text/plain": [
       "               \n",
       "0        absorb\n",
       "1          also\n",
       "2           try\n",
       "3           buy\n",
       "4          cold\n",
       "...         ...\n",
       "14557       use\n",
       "14558       day\n",
       "14559      nice\n",
       "14560    doesnt\n",
       "14561  areasmof\n",
       "\n",
       "[14562 rows x 1 columns]"
      ]
     },
     "execution_count": 162,
     "metadata": {},
     "output_type": "execute_result"
    }
   ],
   "source": [
    "words.rename(columns={\"word\": \"\"})"
   ]
  },
  {
   "cell_type": "code",
   "execution_count": 167,
   "metadata": {},
   "outputs": [],
   "source": [
    "BOW_df = pd.DataFrame(words)"
   ]
  },
  {
   "cell_type": "code",
   "execution_count": 169,
   "metadata": {},
   "outputs": [
    {
     "data": {
      "text/html": [
       "<div>\n",
       "<style scoped>\n",
       "    .dataframe tbody tr th:only-of-type {\n",
       "        vertical-align: middle;\n",
       "    }\n",
       "\n",
       "    .dataframe tbody tr th {\n",
       "        vertical-align: top;\n",
       "    }\n",
       "\n",
       "    .dataframe thead th {\n",
       "        text-align: right;\n",
       "    }\n",
       "</style>\n",
       "<table border=\"1\" class=\"dataframe\">\n",
       "  <thead>\n",
       "    <tr style=\"text-align: right;\">\n",
       "      <th></th>\n",
       "      <th>aaa</th>\n",
       "      <th>ability</th>\n",
       "      <th>able</th>\n",
       "      <th>abasive</th>\n",
       "      <th>abslute</th>\n",
       "      <th>absb</th>\n",
       "      <th>absbent</th>\n",
       "      <th>absptin</th>\n",
       "      <th>ac</th>\n",
       "      <th>accientally</th>\n",
       "      <th>...</th>\n",
       "      <th>ul</th>\n",
       "      <th></th>\n",
       "      <th>e</th>\n",
       "      <th>ite</th>\n",
       "      <th>yea</th>\n",
       "      <th>yes</th>\n",
       "      <th>yet</th>\n",
       "      <th>yummy</th>\n",
       "      <th>zit</th>\n",
       "      <th>zne</th>\n",
       "    </tr>\n",
       "  </thead>\n",
       "  <tbody>\n",
       "    <tr>\n",
       "      <th>0</th>\n",
       "      <td>0</td>\n",
       "      <td>0</td>\n",
       "      <td>0</td>\n",
       "      <td>0</td>\n",
       "      <td>0</td>\n",
       "      <td>1</td>\n",
       "      <td>0</td>\n",
       "      <td>0</td>\n",
       "      <td>0</td>\n",
       "      <td>0</td>\n",
       "      <td>...</td>\n",
       "      <td>0</td>\n",
       "      <td>0</td>\n",
       "      <td>0</td>\n",
       "      <td>0</td>\n",
       "      <td>0</td>\n",
       "      <td>0</td>\n",
       "      <td>0</td>\n",
       "      <td>0</td>\n",
       "      <td>0</td>\n",
       "      <td>0</td>\n",
       "    </tr>\n",
       "    <tr>\n",
       "      <th>1</th>\n",
       "      <td>0</td>\n",
       "      <td>0</td>\n",
       "      <td>0</td>\n",
       "      <td>0</td>\n",
       "      <td>0</td>\n",
       "      <td>0</td>\n",
       "      <td>0</td>\n",
       "      <td>0</td>\n",
       "      <td>0</td>\n",
       "      <td>0</td>\n",
       "      <td>...</td>\n",
       "      <td>0</td>\n",
       "      <td>0</td>\n",
       "      <td>0</td>\n",
       "      <td>0</td>\n",
       "      <td>0</td>\n",
       "      <td>0</td>\n",
       "      <td>0</td>\n",
       "      <td>0</td>\n",
       "      <td>0</td>\n",
       "      <td>0</td>\n",
       "    </tr>\n",
       "    <tr>\n",
       "      <th>2</th>\n",
       "      <td>0</td>\n",
       "      <td>0</td>\n",
       "      <td>0</td>\n",
       "      <td>0</td>\n",
       "      <td>0</td>\n",
       "      <td>0</td>\n",
       "      <td>0</td>\n",
       "      <td>0</td>\n",
       "      <td>0</td>\n",
       "      <td>0</td>\n",
       "      <td>...</td>\n",
       "      <td>0</td>\n",
       "      <td>0</td>\n",
       "      <td>0</td>\n",
       "      <td>0</td>\n",
       "      <td>0</td>\n",
       "      <td>0</td>\n",
       "      <td>0</td>\n",
       "      <td>0</td>\n",
       "      <td>0</td>\n",
       "      <td>0</td>\n",
       "    </tr>\n",
       "    <tr>\n",
       "      <th>3</th>\n",
       "      <td>0</td>\n",
       "      <td>0</td>\n",
       "      <td>0</td>\n",
       "      <td>0</td>\n",
       "      <td>0</td>\n",
       "      <td>0</td>\n",
       "      <td>0</td>\n",
       "      <td>0</td>\n",
       "      <td>0</td>\n",
       "      <td>0</td>\n",
       "      <td>...</td>\n",
       "      <td>0</td>\n",
       "      <td>0</td>\n",
       "      <td>0</td>\n",
       "      <td>0</td>\n",
       "      <td>0</td>\n",
       "      <td>0</td>\n",
       "      <td>0</td>\n",
       "      <td>0</td>\n",
       "      <td>0</td>\n",
       "      <td>0</td>\n",
       "    </tr>\n",
       "    <tr>\n",
       "      <th>4</th>\n",
       "      <td>0</td>\n",
       "      <td>0</td>\n",
       "      <td>0</td>\n",
       "      <td>0</td>\n",
       "      <td>0</td>\n",
       "      <td>0</td>\n",
       "      <td>0</td>\n",
       "      <td>0</td>\n",
       "      <td>0</td>\n",
       "      <td>0</td>\n",
       "      <td>...</td>\n",
       "      <td>0</td>\n",
       "      <td>0</td>\n",
       "      <td>0</td>\n",
       "      <td>0</td>\n",
       "      <td>0</td>\n",
       "      <td>0</td>\n",
       "      <td>0</td>\n",
       "      <td>0</td>\n",
       "      <td>0</td>\n",
       "      <td>0</td>\n",
       "    </tr>\n",
       "    <tr>\n",
       "      <th>...</th>\n",
       "      <td>...</td>\n",
       "      <td>...</td>\n",
       "      <td>...</td>\n",
       "      <td>...</td>\n",
       "      <td>...</td>\n",
       "      <td>...</td>\n",
       "      <td>...</td>\n",
       "      <td>...</td>\n",
       "      <td>...</td>\n",
       "      <td>...</td>\n",
       "      <td>...</td>\n",
       "      <td>...</td>\n",
       "      <td>...</td>\n",
       "      <td>...</td>\n",
       "      <td>...</td>\n",
       "      <td>...</td>\n",
       "      <td>...</td>\n",
       "      <td>...</td>\n",
       "      <td>...</td>\n",
       "      <td>...</td>\n",
       "      <td>...</td>\n",
       "    </tr>\n",
       "    <tr>\n",
       "      <th>14557</th>\n",
       "      <td>0</td>\n",
       "      <td>0</td>\n",
       "      <td>0</td>\n",
       "      <td>0</td>\n",
       "      <td>0</td>\n",
       "      <td>0</td>\n",
       "      <td>0</td>\n",
       "      <td>0</td>\n",
       "      <td>0</td>\n",
       "      <td>0</td>\n",
       "      <td>...</td>\n",
       "      <td>0</td>\n",
       "      <td>0</td>\n",
       "      <td>0</td>\n",
       "      <td>0</td>\n",
       "      <td>0</td>\n",
       "      <td>0</td>\n",
       "      <td>0</td>\n",
       "      <td>0</td>\n",
       "      <td>0</td>\n",
       "      <td>0</td>\n",
       "    </tr>\n",
       "    <tr>\n",
       "      <th>14558</th>\n",
       "      <td>0</td>\n",
       "      <td>0</td>\n",
       "      <td>0</td>\n",
       "      <td>0</td>\n",
       "      <td>0</td>\n",
       "      <td>0</td>\n",
       "      <td>0</td>\n",
       "      <td>0</td>\n",
       "      <td>0</td>\n",
       "      <td>0</td>\n",
       "      <td>...</td>\n",
       "      <td>0</td>\n",
       "      <td>0</td>\n",
       "      <td>0</td>\n",
       "      <td>0</td>\n",
       "      <td>0</td>\n",
       "      <td>0</td>\n",
       "      <td>0</td>\n",
       "      <td>0</td>\n",
       "      <td>0</td>\n",
       "      <td>0</td>\n",
       "    </tr>\n",
       "    <tr>\n",
       "      <th>14559</th>\n",
       "      <td>0</td>\n",
       "      <td>0</td>\n",
       "      <td>0</td>\n",
       "      <td>0</td>\n",
       "      <td>0</td>\n",
       "      <td>0</td>\n",
       "      <td>0</td>\n",
       "      <td>0</td>\n",
       "      <td>0</td>\n",
       "      <td>0</td>\n",
       "      <td>...</td>\n",
       "      <td>0</td>\n",
       "      <td>0</td>\n",
       "      <td>0</td>\n",
       "      <td>0</td>\n",
       "      <td>0</td>\n",
       "      <td>0</td>\n",
       "      <td>0</td>\n",
       "      <td>0</td>\n",
       "      <td>0</td>\n",
       "      <td>0</td>\n",
       "    </tr>\n",
       "    <tr>\n",
       "      <th>14560</th>\n",
       "      <td>0</td>\n",
       "      <td>0</td>\n",
       "      <td>0</td>\n",
       "      <td>0</td>\n",
       "      <td>0</td>\n",
       "      <td>0</td>\n",
       "      <td>0</td>\n",
       "      <td>0</td>\n",
       "      <td>0</td>\n",
       "      <td>0</td>\n",
       "      <td>...</td>\n",
       "      <td>0</td>\n",
       "      <td>0</td>\n",
       "      <td>0</td>\n",
       "      <td>0</td>\n",
       "      <td>0</td>\n",
       "      <td>0</td>\n",
       "      <td>0</td>\n",
       "      <td>0</td>\n",
       "      <td>0</td>\n",
       "      <td>0</td>\n",
       "    </tr>\n",
       "    <tr>\n",
       "      <th>14561</th>\n",
       "      <td>0</td>\n",
       "      <td>0</td>\n",
       "      <td>0</td>\n",
       "      <td>0</td>\n",
       "      <td>0</td>\n",
       "      <td>0</td>\n",
       "      <td>0</td>\n",
       "      <td>0</td>\n",
       "      <td>0</td>\n",
       "      <td>0</td>\n",
       "      <td>...</td>\n",
       "      <td>0</td>\n",
       "      <td>0</td>\n",
       "      <td>0</td>\n",
       "      <td>0</td>\n",
       "      <td>0</td>\n",
       "      <td>0</td>\n",
       "      <td>0</td>\n",
       "      <td>0</td>\n",
       "      <td>0</td>\n",
       "      <td>0</td>\n",
       "    </tr>\n",
       "  </tbody>\n",
       "</table>\n",
       "<p>14562 rows × 966 columns</p>\n",
       "</div>"
      ],
      "text/plain": [
       "       aaa  ability  able  abasive  abslute  absb  absbent  absptin  ac  \\\n",
       "0        0        0     0        0        0     1        0        0   0   \n",
       "1        0        0     0        0        0     0        0        0   0   \n",
       "2        0        0     0        0        0     0        0        0   0   \n",
       "3        0        0     0        0        0     0        0        0   0   \n",
       "4        0        0     0        0        0     0        0        0   0   \n",
       "...    ...      ...   ...      ...      ...   ...      ...      ...  ..   \n",
       "14557    0        0     0        0        0     0        0        0   0   \n",
       "14558    0        0     0        0        0     0        0        0   0   \n",
       "14559    0        0     0        0        0     0        0        0   0   \n",
       "14560    0        0     0        0        0     0        0        0   0   \n",
       "14561    0        0     0        0        0     0        0        0   0   \n",
       "\n",
       "       accientally  ...  ul     e  ite  yea  yes  yet  yummy  zit  zne  \n",
       "0                0  ...   0  0  0    0    0    0    0      0    0    0  \n",
       "1                0  ...   0  0  0    0    0    0    0      0    0    0  \n",
       "2                0  ...   0  0  0    0    0    0    0      0    0    0  \n",
       "3                0  ...   0  0  0    0    0    0    0      0    0    0  \n",
       "4                0  ...   0  0  0    0    0    0    0      0    0    0  \n",
       "...            ...  ...  .. .. ..  ...  ...  ...  ...    ...  ...  ...  \n",
       "14557            0  ...   0  0  0    0    0    0    0      0    0    0  \n",
       "14558            0  ...   0  0  0    0    0    0    0      0    0    0  \n",
       "14559            0  ...   0  0  0    0    0    0    0      0    0    0  \n",
       "14560            0  ...   0  0  0    0    0    0    0      0    0    0  \n",
       "14561            0  ...   0  0  0    0    0    0    0      0    0    0  \n",
       "\n",
       "[14562 rows x 966 columns]"
      ]
     },
     "execution_count": 169,
     "metadata": {},
     "output_type": "execute_result"
    }
   ],
   "source": [
    "X = pd.get_dummies(BOW_df)\n",
    "X.columns = X.columns.str.replace(r\"[word_]\", \"\")"
   ]
  },
  {
   "cell_type": "code",
   "execution_count": 170,
   "metadata": {},
   "outputs": [],
   "source": [
    "df_merged = productReviews_df.merge(X, how='inner', left_index=True, right_index=True)"
   ]
  },
  {
   "cell_type": "code",
   "execution_count": 171,
   "metadata": {},
   "outputs": [
    {
     "data": {
      "text/html": [
       "<div>\n",
       "<style scoped>\n",
       "    .dataframe tbody tr th:only-of-type {\n",
       "        vertical-align: middle;\n",
       "    }\n",
       "\n",
       "    .dataframe tbody tr th {\n",
       "        vertical-align: top;\n",
       "    }\n",
       "\n",
       "    .dataframe thead th {\n",
       "        text-align: right;\n",
       "    }\n",
       "</style>\n",
       "<table border=\"1\" class=\"dataframe\">\n",
       "  <thead>\n",
       "    <tr style=\"text-align: right;\">\n",
       "      <th></th>\n",
       "      <th>product_id</th>\n",
       "      <th>review</th>\n",
       "      <th>review_sentiment</th>\n",
       "      <th>review_clean</th>\n",
       "      <th>pos_tags</th>\n",
       "      <th>wordnet_pos</th>\n",
       "      <th>lemmatized</th>\n",
       "      <th>review_similarity</th>\n",
       "      <th>aaa</th>\n",
       "      <th>ability</th>\n",
       "      <th>...</th>\n",
       "      <th>ul</th>\n",
       "      <th></th>\n",
       "      <th>e</th>\n",
       "      <th>ite</th>\n",
       "      <th>yea</th>\n",
       "      <th>yes</th>\n",
       "      <th>yet</th>\n",
       "      <th>yummy</th>\n",
       "      <th>zit</th>\n",
       "      <th>zne</th>\n",
       "    </tr>\n",
       "  </thead>\n",
       "  <tbody>\n",
       "    <tr>\n",
       "      <th>0</th>\n",
       "      <td>4669755719749</td>\n",
       "      <td>This makes my skin smooth and soft and is ligh...</td>\n",
       "      <td>this makes my skin smooth and soft and is ligh...</td>\n",
       "      <td>makes skin smooth soft lightweight absorbs qui...</td>\n",
       "      <td>[(makes, VBZ), (skin, JJ), (smooth, JJ), (soft...</td>\n",
       "      <td>[(makes, v), (skin, a), (smooth, a), (soft, a)...</td>\n",
       "      <td>[make, skin, smooth, soft, lightweight, absorb...</td>\n",
       "      <td>make skin smooth soft lightweight absorbs quickly</td>\n",
       "      <td>0</td>\n",
       "      <td>0</td>\n",
       "      <td>...</td>\n",
       "      <td>0</td>\n",
       "      <td>0</td>\n",
       "      <td>0</td>\n",
       "      <td>0</td>\n",
       "      <td>0</td>\n",
       "      <td>0</td>\n",
       "      <td>0</td>\n",
       "      <td>0</td>\n",
       "      <td>0</td>\n",
       "      <td>0</td>\n",
       "    </tr>\n",
       "    <tr>\n",
       "      <th>1</th>\n",
       "      <td>4669755719749</td>\n",
       "      <td>Love the silky texture. It's very lightweight ...</td>\n",
       "      <td>love the silky texture its very lightweight bu...</td>\n",
       "      <td>love silky texture lightweight hydrating leave...</td>\n",
       "      <td>[(love, VB), (silky, JJ), (texture, NN), (ligh...</td>\n",
       "      <td>[(love, v), (silky, a), (texture, n), (lightwe...</td>\n",
       "      <td>[love, silky, texture, lightweight, hydrate, l...</td>\n",
       "      <td>love silky texture lightweight hydrate leaf sk...</td>\n",
       "      <td>0</td>\n",
       "      <td>0</td>\n",
       "      <td>...</td>\n",
       "      <td>0</td>\n",
       "      <td>0</td>\n",
       "      <td>0</td>\n",
       "      <td>0</td>\n",
       "      <td>0</td>\n",
       "      <td>0</td>\n",
       "      <td>0</td>\n",
       "      <td>0</td>\n",
       "      <td>0</td>\n",
       "      <td>0</td>\n",
       "    </tr>\n",
       "    <tr>\n",
       "      <th>2</th>\n",
       "      <td>4669755719749</td>\n",
       "      <td>I’ve been trying to find a moisturizer that wo...</td>\n",
       "      <td>i ve been trying to find a moisturizer that wo...</td>\n",
       "      <td>trying find moisturizer would dry skin months ...</td>\n",
       "      <td>[(trying, VBG), (find, NN), (moisturizer, NN),...</td>\n",
       "      <td>[(trying, v), (find, n), (moisturizer, n), (wo...</td>\n",
       "      <td>[try, find, moisturizer, would, dry, skin, mon...</td>\n",
       "      <td>try find moisturizer would dry skin month espe...</td>\n",
       "      <td>0</td>\n",
       "      <td>0</td>\n",
       "      <td>...</td>\n",
       "      <td>0</td>\n",
       "      <td>0</td>\n",
       "      <td>0</td>\n",
       "      <td>0</td>\n",
       "      <td>0</td>\n",
       "      <td>0</td>\n",
       "      <td>0</td>\n",
       "      <td>0</td>\n",
       "      <td>0</td>\n",
       "      <td>0</td>\n",
       "    </tr>\n",
       "    <tr>\n",
       "      <th>3</th>\n",
       "      <td>4669755719749</td>\n",
       "      <td>HYRAM made me buy it and I’m on my second bott...</td>\n",
       "      <td>hyram made me buy it and i m on my second bott...</td>\n",
       "      <td>hyram made buy second bottle love product plea...</td>\n",
       "      <td>[(hyram, NN), (made, VBD), (buy, JJ), (second,...</td>\n",
       "      <td>[(hyram, n), (made, v), (buy, a), (second, a),...</td>\n",
       "      <td>[hyram, make, buy, second, bottle, love, produ...</td>\n",
       "      <td>hyram make buy second bottle love product plea...</td>\n",
       "      <td>0</td>\n",
       "      <td>0</td>\n",
       "      <td>...</td>\n",
       "      <td>0</td>\n",
       "      <td>0</td>\n",
       "      <td>0</td>\n",
       "      <td>0</td>\n",
       "      <td>0</td>\n",
       "      <td>0</td>\n",
       "      <td>0</td>\n",
       "      <td>0</td>\n",
       "      <td>0</td>\n",
       "      <td>0</td>\n",
       "    </tr>\n",
       "    <tr>\n",
       "      <th>4</th>\n",
       "      <td>4669755719749</td>\n",
       "      <td>It's a nice moisturizer I personally will use ...</td>\n",
       "      <td>its a nice moisturizer i personally will use i...</td>\n",
       "      <td>nice moisturizer personally use gets cold outs...</td>\n",
       "      <td>[(nice, JJ), (moisturizer, NN), (personally, R...</td>\n",
       "      <td>[(nice, a), (moisturizer, n), (personally, r),...</td>\n",
       "      <td>[nice, moisturizer, personally, use, get, cold...</td>\n",
       "      <td>nice moisturizer personally use get cold outsi...</td>\n",
       "      <td>0</td>\n",
       "      <td>0</td>\n",
       "      <td>...</td>\n",
       "      <td>0</td>\n",
       "      <td>0</td>\n",
       "      <td>0</td>\n",
       "      <td>0</td>\n",
       "      <td>0</td>\n",
       "      <td>0</td>\n",
       "      <td>0</td>\n",
       "      <td>0</td>\n",
       "      <td>0</td>\n",
       "      <td>0</td>\n",
       "    </tr>\n",
       "    <tr>\n",
       "      <th>...</th>\n",
       "      <td>...</td>\n",
       "      <td>...</td>\n",
       "      <td>...</td>\n",
       "      <td>...</td>\n",
       "      <td>...</td>\n",
       "      <td>...</td>\n",
       "      <td>...</td>\n",
       "      <td>...</td>\n",
       "      <td>...</td>\n",
       "      <td>...</td>\n",
       "      <td>...</td>\n",
       "      <td>...</td>\n",
       "      <td>...</td>\n",
       "      <td>...</td>\n",
       "      <td>...</td>\n",
       "      <td>...</td>\n",
       "      <td>...</td>\n",
       "      <td>...</td>\n",
       "      <td>...</td>\n",
       "      <td>...</td>\n",
       "      <td>...</td>\n",
       "    </tr>\n",
       "    <tr>\n",
       "      <th>14557</th>\n",
       "      <td>263602339849</td>\n",
       "      <td>LOVE THIS, giving it 4 stars because the packa...</td>\n",
       "      <td>love this giving it   stars because the packag...</td>\n",
       "      <td>love giving stars packaging makes hard hard ge...</td>\n",
       "      <td>[(love, NN), (giving, VBG), (stars, NNS), (pac...</td>\n",
       "      <td>[(love, n), (giving, v), (stars, n), (packagin...</td>\n",
       "      <td>[love, give, star, package, make, hard, hard, ...</td>\n",
       "      <td>love give star package make hard hard get ever...</td>\n",
       "      <td>0</td>\n",
       "      <td>0</td>\n",
       "      <td>...</td>\n",
       "      <td>0</td>\n",
       "      <td>0</td>\n",
       "      <td>0</td>\n",
       "      <td>0</td>\n",
       "      <td>0</td>\n",
       "      <td>0</td>\n",
       "      <td>0</td>\n",
       "      <td>0</td>\n",
       "      <td>0</td>\n",
       "      <td>0</td>\n",
       "    </tr>\n",
       "    <tr>\n",
       "      <th>14558</th>\n",
       "      <td>263602339849</td>\n",
       "      <td>I tend to have dry skin. However ever since I ...</td>\n",
       "      <td>i tend to have dry skin however ever since i s...</td>\n",
       "      <td>tend dry skin however ever since started using...</td>\n",
       "      <td>[(tend, VB), (dry, JJ), (skin, NN), (however, ...</td>\n",
       "      <td>[(tend, v), (dry, a), (skin, n), (however, r),...</td>\n",
       "      <td>[tend, dry, skin, however, ever, since, start,...</td>\n",
       "      <td>tend dry skin however ever since start use not...</td>\n",
       "      <td>0</td>\n",
       "      <td>0</td>\n",
       "      <td>...</td>\n",
       "      <td>0</td>\n",
       "      <td>0</td>\n",
       "      <td>0</td>\n",
       "      <td>0</td>\n",
       "      <td>0</td>\n",
       "      <td>0</td>\n",
       "      <td>0</td>\n",
       "      <td>0</td>\n",
       "      <td>0</td>\n",
       "      <td>0</td>\n",
       "    </tr>\n",
       "    <tr>\n",
       "      <th>14559</th>\n",
       "      <td>263602339849</td>\n",
       "      <td>Works wonders</td>\n",
       "      <td>works wonders</td>\n",
       "      <td>works wonders</td>\n",
       "      <td>[(works, NNS), (wonders, NNS)]</td>\n",
       "      <td>[(works, n), (wonders, n)]</td>\n",
       "      <td>[work, wonder]</td>\n",
       "      <td>work wonder</td>\n",
       "      <td>0</td>\n",
       "      <td>0</td>\n",
       "      <td>...</td>\n",
       "      <td>0</td>\n",
       "      <td>0</td>\n",
       "      <td>0</td>\n",
       "      <td>0</td>\n",
       "      <td>0</td>\n",
       "      <td>0</td>\n",
       "      <td>0</td>\n",
       "      <td>0</td>\n",
       "      <td>0</td>\n",
       "      <td>0</td>\n",
       "    </tr>\n",
       "    <tr>\n",
       "      <th>14560</th>\n",
       "      <td>263602339849</td>\n",
       "      <td>I am 25 and have dry sensitive skin and I ador...</td>\n",
       "      <td>i am    and have dry sensitive skin and i ador...</td>\n",
       "      <td>dry sensitive skin adore product felt super he...</td>\n",
       "      <td>[(dry, JJ), (sensitive, JJ), (skin, NN), (ador...</td>\n",
       "      <td>[(dry, a), (sensitive, a), (skin, n), (adore, ...</td>\n",
       "      <td>[dry, sensitive, skin, adore, product, felt, s...</td>\n",
       "      <td>dry sensitive skin adore product felt super he...</td>\n",
       "      <td>0</td>\n",
       "      <td>0</td>\n",
       "      <td>...</td>\n",
       "      <td>0</td>\n",
       "      <td>0</td>\n",
       "      <td>0</td>\n",
       "      <td>0</td>\n",
       "      <td>0</td>\n",
       "      <td>0</td>\n",
       "      <td>0</td>\n",
       "      <td>0</td>\n",
       "      <td>0</td>\n",
       "      <td>0</td>\n",
       "    </tr>\n",
       "    <tr>\n",
       "      <th>14561</th>\n",
       "      <td>263602339849</td>\n",
       "      <td>I have super sensitive acne prone skin, so unf...</td>\n",
       "      <td>i have super sensitive acne prone skin so unfo...</td>\n",
       "      <td>super sensitive acne prone skin unfortunately ...</td>\n",
       "      <td>[(super, JJ), (sensitive, JJ), (acne, NN), (pr...</td>\n",
       "      <td>[(super, a), (sensitive, a), (acne, n), (prone...</td>\n",
       "      <td>[super, sensitive, acne, prone, skin, unfortun...</td>\n",
       "      <td>super sensitive acne prone skin unfortunately ...</td>\n",
       "      <td>0</td>\n",
       "      <td>0</td>\n",
       "      <td>...</td>\n",
       "      <td>0</td>\n",
       "      <td>0</td>\n",
       "      <td>0</td>\n",
       "      <td>0</td>\n",
       "      <td>0</td>\n",
       "      <td>0</td>\n",
       "      <td>0</td>\n",
       "      <td>0</td>\n",
       "      <td>0</td>\n",
       "      <td>0</td>\n",
       "    </tr>\n",
       "  </tbody>\n",
       "</table>\n",
       "<p>14085 rows × 974 columns</p>\n",
       "</div>"
      ],
      "text/plain": [
       "          product_id                                             review  \\\n",
       "0      4669755719749  This makes my skin smooth and soft and is ligh...   \n",
       "1      4669755719749  Love the silky texture. It's very lightweight ...   \n",
       "2      4669755719749  I’ve been trying to find a moisturizer that wo...   \n",
       "3      4669755719749  HYRAM made me buy it and I’m on my second bott...   \n",
       "4      4669755719749  It's a nice moisturizer I personally will use ...   \n",
       "...              ...                                                ...   \n",
       "14557   263602339849  LOVE THIS, giving it 4 stars because the packa...   \n",
       "14558   263602339849  I tend to have dry skin. However ever since I ...   \n",
       "14559   263602339849                                      Works wonders   \n",
       "14560   263602339849  I am 25 and have dry sensitive skin and I ador...   \n",
       "14561   263602339849  I have super sensitive acne prone skin, so unf...   \n",
       "\n",
       "                                        review_sentiment  \\\n",
       "0      this makes my skin smooth and soft and is ligh...   \n",
       "1      love the silky texture its very lightweight bu...   \n",
       "2      i ve been trying to find a moisturizer that wo...   \n",
       "3      hyram made me buy it and i m on my second bott...   \n",
       "4      its a nice moisturizer i personally will use i...   \n",
       "...                                                  ...   \n",
       "14557  love this giving it   stars because the packag...   \n",
       "14558  i tend to have dry skin however ever since i s...   \n",
       "14559                                      works wonders   \n",
       "14560  i am    and have dry sensitive skin and i ador...   \n",
       "14561  i have super sensitive acne prone skin so unfo...   \n",
       "\n",
       "                                            review_clean  \\\n",
       "0      makes skin smooth soft lightweight absorbs qui...   \n",
       "1      love silky texture lightweight hydrating leave...   \n",
       "2      trying find moisturizer would dry skin months ...   \n",
       "3      hyram made buy second bottle love product plea...   \n",
       "4      nice moisturizer personally use gets cold outs...   \n",
       "...                                                  ...   \n",
       "14557  love giving stars packaging makes hard hard ge...   \n",
       "14558  tend dry skin however ever since started using...   \n",
       "14559                                      works wonders   \n",
       "14560  dry sensitive skin adore product felt super he...   \n",
       "14561  super sensitive acne prone skin unfortunately ...   \n",
       "\n",
       "                                                pos_tags  \\\n",
       "0      [(makes, VBZ), (skin, JJ), (smooth, JJ), (soft...   \n",
       "1      [(love, VB), (silky, JJ), (texture, NN), (ligh...   \n",
       "2      [(trying, VBG), (find, NN), (moisturizer, NN),...   \n",
       "3      [(hyram, NN), (made, VBD), (buy, JJ), (second,...   \n",
       "4      [(nice, JJ), (moisturizer, NN), (personally, R...   \n",
       "...                                                  ...   \n",
       "14557  [(love, NN), (giving, VBG), (stars, NNS), (pac...   \n",
       "14558  [(tend, VB), (dry, JJ), (skin, NN), (however, ...   \n",
       "14559                     [(works, NNS), (wonders, NNS)]   \n",
       "14560  [(dry, JJ), (sensitive, JJ), (skin, NN), (ador...   \n",
       "14561  [(super, JJ), (sensitive, JJ), (acne, NN), (pr...   \n",
       "\n",
       "                                             wordnet_pos  \\\n",
       "0      [(makes, v), (skin, a), (smooth, a), (soft, a)...   \n",
       "1      [(love, v), (silky, a), (texture, n), (lightwe...   \n",
       "2      [(trying, v), (find, n), (moisturizer, n), (wo...   \n",
       "3      [(hyram, n), (made, v), (buy, a), (second, a),...   \n",
       "4      [(nice, a), (moisturizer, n), (personally, r),...   \n",
       "...                                                  ...   \n",
       "14557  [(love, n), (giving, v), (stars, n), (packagin...   \n",
       "14558  [(tend, v), (dry, a), (skin, n), (however, r),...   \n",
       "14559                         [(works, n), (wonders, n)]   \n",
       "14560  [(dry, a), (sensitive, a), (skin, n), (adore, ...   \n",
       "14561  [(super, a), (sensitive, a), (acne, n), (prone...   \n",
       "\n",
       "                                              lemmatized  \\\n",
       "0      [make, skin, smooth, soft, lightweight, absorb...   \n",
       "1      [love, silky, texture, lightweight, hydrate, l...   \n",
       "2      [try, find, moisturizer, would, dry, skin, mon...   \n",
       "3      [hyram, make, buy, second, bottle, love, produ...   \n",
       "4      [nice, moisturizer, personally, use, get, cold...   \n",
       "...                                                  ...   \n",
       "14557  [love, give, star, package, make, hard, hard, ...   \n",
       "14558  [tend, dry, skin, however, ever, since, start,...   \n",
       "14559                                     [work, wonder]   \n",
       "14560  [dry, sensitive, skin, adore, product, felt, s...   \n",
       "14561  [super, sensitive, acne, prone, skin, unfortun...   \n",
       "\n",
       "                                       review_similarity  aaa  ability  ...  \\\n",
       "0      make skin smooth soft lightweight absorbs quickly    0        0  ...   \n",
       "1      love silky texture lightweight hydrate leaf sk...    0        0  ...   \n",
       "2      try find moisturizer would dry skin month espe...    0        0  ...   \n",
       "3      hyram make buy second bottle love product plea...    0        0  ...   \n",
       "4      nice moisturizer personally use get cold outsi...    0        0  ...   \n",
       "...                                                  ...  ...      ...  ...   \n",
       "14557  love give star package make hard hard get ever...    0        0  ...   \n",
       "14558  tend dry skin however ever since start use not...    0        0  ...   \n",
       "14559                                        work wonder    0        0  ...   \n",
       "14560  dry sensitive skin adore product felt super he...    0        0  ...   \n",
       "14561  super sensitive acne prone skin unfortunately ...    0        0  ...   \n",
       "\n",
       "       ul     e  ite  yea  yes  yet  yummy  zit  zne  \n",
       "0       0  0  0    0    0    0    0      0    0    0  \n",
       "1       0  0  0    0    0    0    0      0    0    0  \n",
       "2       0  0  0    0    0    0    0      0    0    0  \n",
       "3       0  0  0    0    0    0    0      0    0    0  \n",
       "4       0  0  0    0    0    0    0      0    0    0  \n",
       "...    .. .. ..  ...  ...  ...  ...    ...  ...  ...  \n",
       "14557   0  0  0    0    0    0    0      0    0    0  \n",
       "14558   0  0  0    0    0    0    0      0    0    0  \n",
       "14559   0  0  0    0    0    0    0      0    0    0  \n",
       "14560   0  0  0    0    0    0    0      0    0    0  \n",
       "14561   0  0  0    0    0    0    0      0    0    0  \n",
       "\n",
       "[14085 rows x 974 columns]"
      ]
     },
     "execution_count": 171,
     "metadata": {},
     "output_type": "execute_result"
    }
   ],
   "source": [
    "df_merged"
   ]
  },
  {
   "cell_type": "code",
   "execution_count": 124,
   "metadata": {},
   "outputs": [],
   "source": [
    "Skin_Concern = [\"acne\", \"aging\", \"dehydration\",\"clogged Pores\", \"hyperpigmentation\", \"sensitive\", \"redness\", \"uneven skintone\", \"dryness\"]\n",
    "Product_Type = [\"Cleanser\", \"Mask\", \"Toner\", \"Moisturizer,Serum\",\"Other/Spot Treatments\",\"Essence\",\n",
    "                \"Sheet Mask\",\"Eye Treatment\",\"Sun Protection\",\"Exfoliator\",\"Lip Treatment\"]\n",
    "Skin_Type = [\"oily\", \"dry\", \"combination\", \"normal\"]\n",
    "Price_Range = [\"$0-$20\", \"$21-$40\", \"$41-$60\", \"$61-$80\"]\n",
    "Skin_Goals = [\"unclogged pores\", \"minimize pores\", \"reduce fine lines\", \"remove blackheads\", \"remove dark spots\", \n",
    "              \"improve skin texture\",\"reduce pigmentation\", \"soft skin\", \"hydration\", \"detox\", \"smooth skin\", \"skin brightening\",\"skin glow\", \"improved complexion\", 'clear skin']"
   ]
  },
  {
   "cell_type": "code",
   "execution_count": 49,
   "metadata": {},
   "outputs": [],
   "source": [
    "from scipy import spatial"
   ]
  },
  {
   "cell_type": "code",
   "execution_count": 50,
   "metadata": {},
   "outputs": [],
   "source": [
    "user_input = [\"clog\", \"glow\", \"pore\", \"smooth\", \"hydrate\", \"oily\"]\n",
    "new = []\n",
    "for index, row in df_merged.iterrows():\n",
    "    review_vector = []\n",
    "    for item in user_input:\n",
    "        if row[item] == 1:\n",
    "            review_vector.append(1)\n",
    "        elif row[item] == 0:\n",
    "            review_vector.append(0)\n",
    "        else:\n",
    "            review_vector.append(0)\n",
    "    feature_vector = [1,1,1,1,1,1] #this vector represents the preferred features specified by a user (e.g., cushion, comfort, support)\n",
    "    cosine_similarity = 1 - spatial.distance.cosine(feature_vector, review_vector) #calculates the cosine similarity between the two vectors\n",
    "    if cosine_similarity >=.5:\n",
    "        new.append([row['product_name'], cosine_similarity, row['compound']])\n",
    "    else:\n",
    "        None\n",
    "        "
   ]
  },
  {
   "cell_type": "code",
   "execution_count": 51,
   "metadata": {},
   "outputs": [
    {
     "name": "stderr",
     "output_type": "stream",
     "text": [
      "INFO - 01:16:20: NumExpr defaulting to 8 threads.\n"
     ]
    },
    {
     "data": {
      "text/html": [
       "<div>\n",
       "<style scoped>\n",
       "    .dataframe tbody tr th:only-of-type {\n",
       "        vertical-align: middle;\n",
       "    }\n",
       "\n",
       "    .dataframe tbody tr th {\n",
       "        vertical-align: top;\n",
       "    }\n",
       "\n",
       "    .dataframe thead th {\n",
       "        text-align: right;\n",
       "    }\n",
       "</style>\n",
       "<table border=\"1\" class=\"dataframe\">\n",
       "  <thead>\n",
       "    <tr style=\"text-align: right;\">\n",
       "      <th></th>\n",
       "      <th>product_name</th>\n",
       "      <th>similarity_score</th>\n",
       "      <th>sentiment_score</th>\n",
       "      <th>weighted_score</th>\n",
       "    </tr>\n",
       "  </thead>\n",
       "  <tbody>\n",
       "    <tr>\n",
       "      <th>0</th>\n",
       "      <td>100% Organic Golden Jojoba Oil</td>\n",
       "      <td>0.577350</td>\n",
       "      <td>0.952200</td>\n",
       "      <td>0.689805</td>\n",
       "    </tr>\n",
       "    <tr>\n",
       "      <th>1</th>\n",
       "      <td>7 Wonders Mediterranean Olive Brightening Mask</td>\n",
       "      <td>0.577350</td>\n",
       "      <td>0.507600</td>\n",
       "      <td>0.556425</td>\n",
       "    </tr>\n",
       "    <tr>\n",
       "      <th>2</th>\n",
       "      <td>7 Wonders Tundra Cranberry Anti-Aging Mask</td>\n",
       "      <td>0.577350</td>\n",
       "      <td>0.943500</td>\n",
       "      <td>0.687195</td>\n",
       "    </tr>\n",
       "    <tr>\n",
       "      <th>3</th>\n",
       "      <td>A New Leaf Cream Cleanser</td>\n",
       "      <td>0.577350</td>\n",
       "      <td>0.882950</td>\n",
       "      <td>0.669030</td>\n",
       "    </tr>\n",
       "    <tr>\n",
       "      <th>4</th>\n",
       "      <td>A'PIEU Daily Sheet Mask - Green Tea</td>\n",
       "      <td>0.642229</td>\n",
       "      <td>0.690475</td>\n",
       "      <td>0.656702</td>\n",
       "    </tr>\n",
       "  </tbody>\n",
       "</table>\n",
       "</div>"
      ],
      "text/plain": [
       "                                     product_name  similarity_score  \\\n",
       "0                  100% Organic Golden Jojoba Oil          0.577350   \n",
       "1  7 Wonders Mediterranean Olive Brightening Mask          0.577350   \n",
       "2      7 Wonders Tundra Cranberry Anti-Aging Mask          0.577350   \n",
       "3                       A New Leaf Cream Cleanser          0.577350   \n",
       "4             A'PIEU Daily Sheet Mask - Green Tea          0.642229   \n",
       "\n",
       "   sentiment_score  weighted_score  \n",
       "0         0.952200        0.689805  \n",
       "1         0.507600        0.556425  \n",
       "2         0.943500        0.687195  \n",
       "3         0.882950        0.669030  \n",
       "4         0.690475        0.656702  "
      ]
     },
     "execution_count": 51,
     "metadata": {},
     "output_type": "execute_result"
    }
   ],
   "source": [
    "df = pd.DataFrame(new, columns=[\"product_name\", \"similarity_score\", \"sentiment_score\"])\n",
    "score_df = df.groupby(\"product_name\").mean()\n",
    "score_df.reset_index(inplace=True)\n",
    "score_df[\"weighted_score\"] = (0.7*score_df[\"similarity_score\"])+(.3*score_df[\"sentiment_score\"])\n",
    "score_df.head()"
   ]
  },
  {
   "cell_type": "code",
   "execution_count": 52,
   "metadata": {},
   "outputs": [
    {
     "data": {
      "text/html": [
       "<div>\n",
       "<style scoped>\n",
       "    .dataframe tbody tr th:only-of-type {\n",
       "        vertical-align: middle;\n",
       "    }\n",
       "\n",
       "    .dataframe tbody tr th {\n",
       "        vertical-align: top;\n",
       "    }\n",
       "\n",
       "    .dataframe thead th {\n",
       "        text-align: right;\n",
       "    }\n",
       "</style>\n",
       "<table border=\"1\" class=\"dataframe\">\n",
       "  <thead>\n",
       "    <tr style=\"text-align: right;\">\n",
       "      <th></th>\n",
       "      <th>product_name</th>\n",
       "      <th>similarity_score</th>\n",
       "      <th>sentiment_score</th>\n",
       "      <th>weighted_score</th>\n",
       "    </tr>\n",
       "  </thead>\n",
       "  <tbody>\n",
       "    <tr>\n",
       "      <th>120</th>\n",
       "      <td>Rice Pure Clay Mask to Foam Cleanser</td>\n",
       "      <td>0.707107</td>\n",
       "      <td>0.992600</td>\n",
       "      <td>0.792755</td>\n",
       "    </tr>\n",
       "    <tr>\n",
       "      <th>82</th>\n",
       "      <td>LHA Blemish Ampoule</td>\n",
       "      <td>0.707107</td>\n",
       "      <td>0.983400</td>\n",
       "      <td>0.789995</td>\n",
       "    </tr>\n",
       "    <tr>\n",
       "      <th>80</th>\n",
       "      <td>Inward Agas ACue Herbal Mask</td>\n",
       "      <td>0.663855</td>\n",
       "      <td>0.976867</td>\n",
       "      <td>0.757758</td>\n",
       "    </tr>\n",
       "  </tbody>\n",
       "</table>\n",
       "</div>"
      ],
      "text/plain": [
       "                             product_name  similarity_score  sentiment_score  \\\n",
       "120  Rice Pure Clay Mask to Foam Cleanser          0.707107         0.992600   \n",
       "82                    LHA Blemish Ampoule          0.707107         0.983400   \n",
       "80           Inward Agas ACue Herbal Mask          0.663855         0.976867   \n",
       "\n",
       "     weighted_score  \n",
       "120        0.792755  \n",
       "82         0.789995  \n",
       "80         0.757758  "
      ]
     },
     "execution_count": 52,
     "metadata": {},
     "output_type": "execute_result"
    }
   ],
   "source": [
    "score_df.nlargest(3, 'weighted_score')"
   ]
  },
  {
   "cell_type": "markdown",
   "metadata": {},
   "source": [
    "Cosine Similarity"
   ]
  },
  {
   "cell_type": "code",
   "execution_count": null,
   "metadata": {},
   "outputs": [],
   "source": [
    "productReviews_df = pd.merge(Reviews_df, productList_df, how=\"inner\", on=[\"product_id\"])"
   ]
  },
  {
   "cell_type": "markdown",
   "metadata": {},
   "source": [
    "Sentiment Analysis"
   ]
  },
  {
   "cell_type": "code",
   "execution_count": 164,
   "metadata": {},
   "outputs": [],
   "source": [
    "reviews_df = reviews_df.reset_index(drop=True)"
   ]
  },
  {
   "cell_type": "code",
   "execution_count": 165,
   "metadata": {},
   "outputs": [
    {
     "name": "stderr",
     "output_type": "stream",
     "text": [
      "[nltk_data] Downloading package vader_lexicon to\n",
      "[nltk_data]     C:\\Users\\bibek\\AppData\\Roaming\\nltk_data...\n",
      "[nltk_data]   Package vader_lexicon is already up-to-date!\n"
     ]
    }
   ],
   "source": [
    "import nltk\n",
    "import math\n",
    "nltk.download('vader_lexicon')\n",
    "from nltk.sentiment.vader import SentimentIntensityAnalyzer"
   ]
  },
  {
   "cell_type": "code",
   "execution_count": 166,
   "metadata": {
    "scrolled": true
   },
   "outputs": [
    {
     "data": {
      "text/plain": [
       "0    0.0000\n",
       "1    0.7043\n",
       "2    0.6597\n",
       "3    0.9605\n",
       "4    0.4215\n",
       "Name: compound, dtype: float64"
      ]
     },
     "execution_count": 166,
     "metadata": {},
     "output_type": "execute_result"
    }
   ],
   "source": [
    "sid = SentimentIntensityAnalyzer()\n",
    "reviews_df['scores'] = reviews_df['review'].apply(lambda review: sid.polarity_scores(review))\n",
    "\n",
    "reviews_df['compound']  = reviews_df['scores'].apply(lambda score_dict: score_dict['compound'])\n",
    "reviews_df['compound'].head()"
   ]
  },
  {
   "cell_type": "markdown",
   "metadata": {},
   "source": [
    "### Plotting Sentiment of"
   ]
  },
  {
   "cell_type": "code",
   "execution_count": 53,
   "metadata": {},
   "outputs": [],
   "source": [
    "plot_df = score_df.nlargest(3, 'weighted_score')"
   ]
  },
  {
   "cell_type": "code",
   "execution_count": 54,
   "metadata": {},
   "outputs": [
    {
     "data": {
      "image/png": "[encoded data removed]",
      "text/plain": [
       "<Figure size 500x200 with 1 Axes>"
      ]
     },
     "metadata": {},
     "output_type": "display_data"
    }
   ],
   "source": [
    "# set figure size\n",
    "plt.rcParams['figure.figsize'] = (5,2)\n",
    "sns.color_palette(\"Blues\", as_cmap=True)\n",
    "sns.barplot(x =plot_df['sentiment_score'],  y= plot_df['product_name'], data = plot_df, palette=(\"Blues\"))\n",
    "\n",
    "plt.xlabel(\"Sentiment Score of Product\")\n",
    "plt.ylabel(\"Product Name\")\n",
    "plt.title(\"Sentiment Score of Product based on Reviews\")\n",
    "# Show the plot\n",
    "plt.show()"
   ]
  },
  {
   "cell_type": "code",
   "execution_count": 55,
   "metadata": {
    "scrolled": true
   },
   "outputs": [
    {
     "data": {
      "image/png": "[encoded data removed]",
      "text/plain": [
       "<Figure size 500x200 with 1 Axes>"
      ]
     },
     "metadata": {},
     "output_type": "display_data"
    }
   ],
   "source": [
    "# set figure size\n",
    "plt.rcParams['figure.figsize'] = (5,2)\n",
    "sns.color_palette(\"Blues\", as_cmap=True)\n",
    "sns.barplot(x =plot_df['similarity_score'],  y= plot_df['product_name'], data = plot_df, palette=(\"Blues\"))\n",
    "\n",
    "plt.xlabel(\"Similarity Score of Product\")\n",
    "plt.ylabel(\"Product Name\")\n",
    "plt.title(\"Similarity Score of Product based on User Preference Features\")\n",
    "# Show the plot\n",
    "plt.show()"
   ]
  },
  {
   "cell_type": "code",
   "execution_count": 56,
   "metadata": {},
   "outputs": [
    {
     "data": {
      "image/png": "[encoded data removed]",
      "text/plain": [
       "<Figure size 500x200 with 1 Axes>"
      ]
     },
     "metadata": {},
     "output_type": "display_data"
    }
   ],
   "source": [
    "# set figure size\n",
    "plt.rcParams['figure.figsize'] = (5,2)\n",
    "sns.color_palette(\"Blues\", as_cmap=True)\n",
    "sns.barplot(x =plot_df['weighted_score'],  y= plot_df['product_name'], data = plot_df, palette=(\"Blues\"))\n",
    "\n",
    "plt.xlabel(\"Weighted Score of Product\")\n",
    "plt.ylabel(\"Product Name\")\n",
    "plt.title(\"Weighted Score of Product based on User Preference Features\")\n",
    "# Show the plot\n",
    "plt.show()"
   ]
  },
  {
   "cell_type": "code",
   "execution_count": 57,
   "metadata": {},
   "outputs": [],
   "source": [
    "#to check if the feature exist\n",
    "#x = \"hydration\" in cv_dataframe"
   ]
  },
  {
   "cell_type": "markdown",
   "metadata": {},
   "source": [
    "List of User preference"
   ]
  },
  {
   "cell_type": "code",
   "execution_count": 58,
   "metadata": {},
   "outputs": [],
   "source": [
    "Skin_Concern = [\"acne\", \"aging\", \"dehydration\",\"clogged Pores\", \"pigmentation\", \"sensitive\", \"redness\", \"uneven skintone\", \"dryness\"]\n",
    "Product_Type = [\"Cleanser\", \"Mask\", \"Toner\", \"Moisturizer,Serum\",\"Other/Spot Treatments\",\"Essence\",\n",
    "                \"Sheet Mask\",\"Eye Treatment\",\"Sun Protection\",\"Exfoliator\",\"Lip Treatment\"]\n",
    "Skin_Type = [\"oily\", \"dry\", \"combination\", \"normal\"]\n",
    "Price_Range = [\"$0-$20\", \"$21-$40\", \"$41-$60\", \"$61-$80\"]\n",
    "Skin Goals = [\"unclogged pores\", \"minimize pores\", \"reduce fine lines\", \"remove blackheads\", \"remove dark spots\", \n",
    "              \"improve skin texture\",\"reduce pigmentation\", \"soft skin\", \"hydration\", \"detox\", \"smooth skin\", \"skin brightening\",\"skin glow\"]"
   ]
  },
  {
   "cell_type": "code",
   "execution_count": 51,
   "metadata": {},
   "outputs": [
    {
     "data": {
      "text/plain": [
       "0.816496580927726"
      ]
     },
     "execution_count": 51,
     "metadata": {},
     "output_type": "execute_result"
    }
   ],
   "source": [
    "cosine_similarity"
   ]
  },
  {
   "cell_type": "code",
   "execution_count": null,
   "metadata": {},
   "outputs": [],
   "source": []
  },
  {
   "cell_type": "code",
   "execution_count": 105,
   "metadata": {},
   "outputs": [
    {
     "data": {
      "image/png": "[encoded data removed]",
      "text/plain": [
       "<IPython.core.display.Image object>"
      ]
     },
     "execution_count": 105,
     "metadata": {},
     "output_type": "execute_result"
    }
   ],
   "source": [
    "from IPython.display import Image\n",
    "Image(filename='histogram_price.png')"
   ]
  }
 ],
 "metadata": {
  "kernelspec": {
   "display_name": "Python 3",
   "language": "python",
   "name": "python3"
  },
  "language_info": {
   "codemirror_mode": {
    "name": "ipython",
    "version": 3
   },
   "file_extension": ".py",
   "mimetype": "text/x-python",
   "name": "python",
   "nbconvert_exporter": "python",
   "pygments_lexer": "ipython3",
   "version": "3.6.13"
  }
 },
 "nbformat": 4,
 "nbformat_minor": 4
}
