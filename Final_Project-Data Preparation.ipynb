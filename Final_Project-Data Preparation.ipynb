{
 "cells": [
  {
   "cell_type": "markdown",
   "metadata": {},
   "source": [
    "## Project: Knowledge Based Recommendation System\n",
    "### Data Preparation\n",
    "\n",
    "#### DSC 630\n",
    "\n",
    "Taniya Adhikari 15/24/2021"
   ]
  },
  {
   "cell_type": "code",
   "execution_count": 1,
   "metadata": {},
   "outputs": [
    {
     "name": "stderr",
     "output_type": "stream",
     "text": [
      "[nltk_data] Downloading package stopwords to\n",
      "[nltk_data]     C:\\Users\\bibek\\AppData\\Roaming\\nltk_data...\n",
      "[nltk_data]   Package stopwords is already up-to-date!\n"
     ]
    }
   ],
   "source": [
    "from bs4 import BeautifulSoup as BS\n",
    "import numpy as np\n",
    "import pandas as pd\n",
    "\n",
    "import matplotlib.pyplot as plt; plt.rcdefaults()\n",
    "import matplotlib.pyplot as plt\n",
    "import seaborn as sns\n",
    "import requests\n",
    "\n",
    "import warnings; warnings.simplefilter('ignore')\n",
    "\n",
    "import re\n",
    "from re import sub\n",
    "import multiprocessing\n",
    "from unidecode import unidecode\n",
    "\n",
    "from gensim.models.phrases import Phrases, Phraser\n",
    "from gensim.models import Word2Vec\n",
    "from gensim.test.utils import get_tmpfile\n",
    "from gensim.models import KeyedVectors\n",
    "\n",
    "\n",
    "from time import time \n",
    "from collections import defaultdict\n",
    "\n",
    "import logging  # Setting up the loggings to monitor gensim\n",
    "logging.basicConfig(format=\"%(levelname)s - %(asctime)s: %(message)s\", datefmt= '%H:%M:%S', level=logging.INFO)\n",
    "import textblob\n",
    "\n",
    "import nltk\n",
    "nltk.download('stopwords')\n",
    "from nltk.corpus import stopwords\n",
    "from nltk.stem import PorterStemmer\n",
    "from nltk.tokenize import word_tokenize\n",
    "from textblob import TextBlob\n",
    "from sklearn.cluster import KMeans"
   ]
  },
  {
   "cell_type": "markdown",
   "metadata": {},
   "source": [
    "#### Functions"
   ]
  },
  {
   "cell_type": "markdown",
   "metadata": {},
   "source": [
    "1. Remove WhiteSpace"
   ]
  },
  {
   "cell_type": "code",
   "execution_count": 2,
   "metadata": {},
   "outputs": [],
   "source": [
    "def no_whitespace(string):\n",
    "    return string.strip()"
   ]
  },
  {
   "cell_type": "code",
   "execution_count": 3,
   "metadata": {},
   "outputs": [],
   "source": [
    "# stripping white space from all column type as object\n",
    "def clean_string(df):\n",
    "    \n",
    "    for col in df.columns:\n",
    "        if df[col].dtype == np.object:\n",
    "            new = '{}_new'.format(col)\n",
    "            df[new] = df[col].apply(no_whitespace)\n",
    "            df[col] = df[new]\n",
    "            df = df.drop(columns=[new])\n",
    "    return df"
   ]
  },
  {
   "cell_type": "markdown",
   "metadata": {},
   "source": [
    "2. Remove Punctuation and Convert string to Lower Case"
   ]
  },
  {
   "cell_type": "code",
   "execution_count": 4,
   "metadata": {},
   "outputs": [],
   "source": [
    "import string\n",
    "\n",
    "\n",
    "def text_w_punc(text):\n",
    "    pattern = r'[^A-Za-z ]'\n",
    "    regex = re.compile(pattern)\n",
    "    text = regex.sub(' ', text)\n",
    "    return text\n",
    "\n",
    "\n",
    "def pre_processing1(df, col):\n",
    "    # converting all text to lowercase\n",
    "    df[col] = df[col].str.lower()\n",
    "    \n",
    "    # removing punctuation using string.punctuations and join()\n",
    "    df[col] = df[col].apply(lambda x: \"\".join([i for i in x if i not in string.punctuation]))\n",
    "    df[col] = df[col].apply(lambda x: text_w_punc(x))    \n",
    "    \n",
    "    return df"
   ]
  },
  {
   "cell_type": "markdown",
   "metadata": {},
   "source": [
    "3. Remove Stopwords"
   ]
  },
  {
   "cell_type": "code",
   "execution_count": 5,
   "metadata": {},
   "outputs": [],
   "source": [
    "stop = stopwords.words('english')   \n",
    "\n",
    "def remove_stopwords(df, col, stop):\n",
    "# remove stop words for bag of word model and td-idf\n",
    "\n",
    "    df['stopwords'] = df[col].apply(lambda x: len([i for i in x.split() if i in stop]))\n",
    "    df['clean']= df[col].apply(lambda x: \" \".join(i for i in x.split() if i not in stop))\n",
    "    df['stopwords'] = df[col].apply(lambda x: len([i for i in x.split() if i in stop]))\n",
    "    del df['stopwords']\n",
    "    return df\n"
   ]
  },
  {
   "cell_type": "markdown",
   "metadata": {},
   "source": [
    "4. Lemmatization"
   ]
  },
  {
   "cell_type": "code",
   "execution_count": 6,
   "metadata": {},
   "outputs": [
    {
     "name": "stderr",
     "output_type": "stream",
     "text": [
      "[nltk_data] Downloading package wordnet to\n",
      "[nltk_data]     C:\\Users\\bibek\\AppData\\Roaming\\nltk_data...\n",
      "[nltk_data]   Package wordnet is already up-to-date!\n"
     ]
    }
   ],
   "source": [
    "from nltk import pos_tag\n",
    "from nltk.corpus import wordnet\n",
    "nltk.download('wordnet')\n",
    "from nltk.stem import WordNetLemmatizer\n",
    "\n",
    "\n",
    "def get_wordnet_pos(tag):\n",
    "    if tag.startswith('J'):\n",
    "        return wordnet.ADJ\n",
    "    elif tag.startswith('V'):\n",
    "        return wordnet.VERB\n",
    "    elif tag.startswith('N'):\n",
    "        return wordnet.NOUN\n",
    "    elif tag.startswith('R'):\n",
    "        return wordnet.ADV\n",
    "    else:\n",
    "        return wordnet.NOUN\n",
    "\n",
    "def listToString(s): \n",
    "    # initialize an empty string\n",
    "    str1 = \" \" \n",
    "    \n",
    "    # return string  \n",
    "    return (str1.join(s))\n",
    "\n",
    "\n",
    "def lemmatized_text(df, col):\n",
    "\n",
    "    text_list = df[col].tolist()\n",
    "\n",
    "    tagged_texts = []\n",
    "\n",
    "    # tag each word\n",
    "    for text in text_list:\n",
    "        text_tag = pos_tag(word_tokenize(text))\n",
    "        tagged_texts.append(text_tag)\n",
    "    \n",
    "    df['pos_tags'] = tagged_texts\n",
    "    df['wordnet_pos'] = df['pos_tags'].apply(lambda x: [(word, get_wordnet_pos(pos_tag)) for (word, pos_tag) in x])\n",
    "    \n",
    "    wnl = WordNetLemmatizer()\n",
    "    df['lemmatized'] = df['wordnet_pos'].apply(lambda x: [wnl.lemmatize(word, tag) for word, tag in x])\n",
    "    df[col]= df[\"lemmatized\"].apply(lambda x: \" \".join(i for i in x))\n",
    "    return df"
   ]
  },
  {
   "cell_type": "markdown",
   "metadata": {},
   "source": [
    "5. Convert currency to float"
   ]
  },
  {
   "cell_type": "code",
   "execution_count": 7,
   "metadata": {},
   "outputs": [],
   "source": [
    "def clean_currency(x):\n",
    "    \n",
    "    #If the value is a string, then remove currency symbol and delimiters\n",
    "    #otherwise, the value is numeric and can be converted\n",
    "    \n",
    "    if isinstance(x, str):\n",
    "        return(x.replace('$', '').replace(',', ''))\n",
    "    return(x)"
   ]
  },
  {
   "cell_type": "markdown",
   "metadata": {},
   "source": [
    "### Data Preparation"
   ]
  },
  {
   "cell_type": "markdown",
   "metadata": {},
   "source": [
    "#### Data Frame 1 Product List"
   ]
  },
  {
   "cell_type": "code",
   "execution_count": 8,
   "metadata": {},
   "outputs": [],
   "source": [
    "productList_df = pd.read_csv(\"productlist.csv\", index_col=0)"
   ]
  },
  {
   "cell_type": "code",
   "execution_count": 9,
   "metadata": {},
   "outputs": [
    {
     "data": {
      "text/html": [
       "<div>\n",
       "<style scoped>\n",
       "    .dataframe tbody tr th:only-of-type {\n",
       "        vertical-align: middle;\n",
       "    }\n",
       "\n",
       "    .dataframe tbody tr th {\n",
       "        vertical-align: top;\n",
       "    }\n",
       "\n",
       "    .dataframe thead th {\n",
       "        text-align: right;\n",
       "    }\n",
       "</style>\n",
       "<table border=\"1\" class=\"dataframe\">\n",
       "  <thead>\n",
       "    <tr style=\"text-align: right;\">\n",
       "      <th></th>\n",
       "      <th>product_ID</th>\n",
       "      <th>product_name</th>\n",
       "      <th>product_brand</th>\n",
       "      <th>price</th>\n",
       "      <th>product_description</th>\n",
       "      <th>product_type</th>\n",
       "    </tr>\n",
       "  </thead>\n",
       "  <tbody>\n",
       "    <tr>\n",
       "      <th>0</th>\n",
       "      <td>6562638659653</td>\n",
       "      <td>VITALIFT-A</td>\n",
       "      <td>Dr. Different</td>\n",
       "      <td>$42</td>\n",
       "      <td>This night-time skin treatment is ideal for th...</td>\n",
       "      <td>Other/Spot Treatments</td>\n",
       "    </tr>\n",
       "    <tr>\n",
       "      <th>1</th>\n",
       "      <td>6562639675461</td>\n",
       "      <td>VITALIFT-A Forte</td>\n",
       "      <td>Dr. Different</td>\n",
       "      <td>$52</td>\n",
       "      <td>Those that need an extra boost to smooth out f...</td>\n",
       "      <td>Other/Spot Treatments</td>\n",
       "    </tr>\n",
       "    <tr>\n",
       "      <th>2</th>\n",
       "      <td>6562640429125</td>\n",
       "      <td>VITALIFT-A Eye &amp; Neck</td>\n",
       "      <td>Dr. Different</td>\n",
       "      <td>$40</td>\n",
       "      <td>For those looking to target fine lines and wri...</td>\n",
       "      <td>Eye Treatment</td>\n",
       "    </tr>\n",
       "  </tbody>\n",
       "</table>\n",
       "</div>"
      ],
      "text/plain": [
       "      product_ID           product_name  product_brand price  \\\n",
       "0  6562638659653             VITALIFT-A  Dr. Different   $42   \n",
       "1  6562639675461       VITALIFT-A Forte  Dr. Different   $52   \n",
       "2  6562640429125  VITALIFT-A Eye & Neck  Dr. Different   $40   \n",
       "\n",
       "                                 product_description           product_type  \n",
       "0  This night-time skin treatment is ideal for th...  Other/Spot Treatments  \n",
       "1  Those that need an extra boost to smooth out f...  Other/Spot Treatments  \n",
       "2  For those looking to target fine lines and wri...          Eye Treatment  "
      ]
     },
     "execution_count": 9,
     "metadata": {},
     "output_type": "execute_result"
    }
   ],
   "source": [
    "productList_df.head(3)"
   ]
  },
  {
   "cell_type": "code",
   "execution_count": 10,
   "metadata": {},
   "outputs": [
    {
     "data": {
      "text/html": [
       "<div>\n",
       "<style scoped>\n",
       "    .dataframe tbody tr th:only-of-type {\n",
       "        vertical-align: middle;\n",
       "    }\n",
       "\n",
       "    .dataframe tbody tr th {\n",
       "        vertical-align: top;\n",
       "    }\n",
       "\n",
       "    .dataframe thead th {\n",
       "        text-align: right;\n",
       "    }\n",
       "</style>\n",
       "<table border=\"1\" class=\"dataframe\">\n",
       "  <thead>\n",
       "    <tr style=\"text-align: right;\">\n",
       "      <th></th>\n",
       "      <th>product_ID</th>\n",
       "      <th>product_name</th>\n",
       "      <th>product_brand</th>\n",
       "      <th>price</th>\n",
       "      <th>product_description</th>\n",
       "      <th>product_type</th>\n",
       "      <th>description_clean</th>\n",
       "      <th>pos_tags</th>\n",
       "      <th>wordnet_pos</th>\n",
       "      <th>lemmatized</th>\n",
       "    </tr>\n",
       "  </thead>\n",
       "  <tbody>\n",
       "    <tr>\n",
       "      <th>0</th>\n",
       "      <td>6562638659653</td>\n",
       "      <td>VITALIFT-A</td>\n",
       "      <td>Dr. Different</td>\n",
       "      <td>$42</td>\n",
       "      <td>this nighttime skin treatment is ideal for tho...</td>\n",
       "      <td>Other/Spot Treatments</td>\n",
       "      <td>nighttime skin treatment ideal look improve ap...</td>\n",
       "      <td>[(nighttime, JJ), (skin, NN), (treatment, NN),...</td>\n",
       "      <td>[(nighttime, a), (skin, n), (treatment, n), (i...</td>\n",
       "      <td>[nighttime, skin, treatment, ideal, look, impr...</td>\n",
       "    </tr>\n",
       "    <tr>\n",
       "      <th>1</th>\n",
       "      <td>6562639675461</td>\n",
       "      <td>VITALIFT-A Forte</td>\n",
       "      <td>Dr. Different</td>\n",
       "      <td>$52</td>\n",
       "      <td>those that need an extra boost to smooth out f...</td>\n",
       "      <td>Other/Spot Treatments</td>\n",
       "      <td>need extra boost smooth fine line wrinkle real...</td>\n",
       "      <td>[(need, NN), (extra, VBZ), (boost, VB), (smoot...</td>\n",
       "      <td>[(need, n), (extra, v), (boost, v), (smooth, a...</td>\n",
       "      <td>[need, extra, boost, smooth, fine, line, wrink...</td>\n",
       "    </tr>\n",
       "    <tr>\n",
       "      <th>2</th>\n",
       "      <td>6562640429125</td>\n",
       "      <td>VITALIFT-A Eye &amp; Neck</td>\n",
       "      <td>Dr. Different</td>\n",
       "      <td>$40</td>\n",
       "      <td>for those looking to target fine lines and wri...</td>\n",
       "      <td>Eye Treatment</td>\n",
       "      <td>look target fine line wrinkle specifically aro...</td>\n",
       "      <td>[(looking, VBG), (target, NN), (fine, JJ), (li...</td>\n",
       "      <td>[(looking, v), (target, n), (fine, a), (lines,...</td>\n",
       "      <td>[look, target, fine, line, wrinkle, specifical...</td>\n",
       "    </tr>\n",
       "  </tbody>\n",
       "</table>\n",
       "</div>"
      ],
      "text/plain": [
       "      product_ID           product_name  product_brand price  \\\n",
       "0  6562638659653             VITALIFT-A  Dr. Different   $42   \n",
       "1  6562639675461       VITALIFT-A Forte  Dr. Different   $52   \n",
       "2  6562640429125  VITALIFT-A Eye & Neck  Dr. Different   $40   \n",
       "\n",
       "                                 product_description           product_type  \\\n",
       "0  this nighttime skin treatment is ideal for tho...  Other/Spot Treatments   \n",
       "1  those that need an extra boost to smooth out f...  Other/Spot Treatments   \n",
       "2  for those looking to target fine lines and wri...          Eye Treatment   \n",
       "\n",
       "                                   description_clean  \\\n",
       "0  nighttime skin treatment ideal look improve ap...   \n",
       "1  need extra boost smooth fine line wrinkle real...   \n",
       "2  look target fine line wrinkle specifically aro...   \n",
       "\n",
       "                                            pos_tags  \\\n",
       "0  [(nighttime, JJ), (skin, NN), (treatment, NN),...   \n",
       "1  [(need, NN), (extra, VBZ), (boost, VB), (smoot...   \n",
       "2  [(looking, VBG), (target, NN), (fine, JJ), (li...   \n",
       "\n",
       "                                         wordnet_pos  \\\n",
       "0  [(nighttime, a), (skin, n), (treatment, n), (i...   \n",
       "1  [(need, n), (extra, v), (boost, v), (smooth, a...   \n",
       "2  [(looking, v), (target, n), (fine, a), (lines,...   \n",
       "\n",
       "                                          lemmatized  \n",
       "0  [nighttime, skin, treatment, ideal, look, impr...  \n",
       "1  [need, extra, boost, smooth, fine, line, wrink...  \n",
       "2  [look, target, fine, line, wrinkle, specifical...  "
      ]
     },
     "execution_count": 10,
     "metadata": {},
     "output_type": "execute_result"
    }
   ],
   "source": [
    "productList_df = clean_string(productList_df)\n",
    "productList_df = pre_processing1(productList_df, \"product_description\")\n",
    "productList_df = remove_stopwords(productList_df, \"product_description\", stop)\n",
    "productList_df = lemmatized_text(productList_df, \"clean\")\n",
    "productList_df = productList_df.rename(columns={\"clean\": \"description_clean\"})\n",
    "productList_df.head(3)"
   ]
  },
  {
   "cell_type": "code",
   "execution_count": 11,
   "metadata": {},
   "outputs": [],
   "source": [
    "productList_df['price'] = productList_df['price'].apply(clean_currency).astype('float')\n",
    "productList_df = productList_df.rename(columns={\"product_ID\": \"product_id\"})"
   ]
  },
  {
   "cell_type": "code",
   "execution_count": 12,
   "metadata": {},
   "outputs": [
    {
     "data": {
      "text/html": [
       "<div>\n",
       "<style scoped>\n",
       "    .dataframe tbody tr th:only-of-type {\n",
       "        vertical-align: middle;\n",
       "    }\n",
       "\n",
       "    .dataframe tbody tr th {\n",
       "        vertical-align: top;\n",
       "    }\n",
       "\n",
       "    .dataframe thead th {\n",
       "        text-align: right;\n",
       "    }\n",
       "</style>\n",
       "<table border=\"1\" class=\"dataframe\">\n",
       "  <thead>\n",
       "    <tr style=\"text-align: right;\">\n",
       "      <th></th>\n",
       "      <th>product_id</th>\n",
       "      <th>product_name</th>\n",
       "      <th>product_brand</th>\n",
       "      <th>price</th>\n",
       "      <th>product_description</th>\n",
       "      <th>product_type</th>\n",
       "      <th>description_clean</th>\n",
       "      <th>pos_tags</th>\n",
       "      <th>wordnet_pos</th>\n",
       "      <th>lemmatized</th>\n",
       "    </tr>\n",
       "  </thead>\n",
       "  <tbody>\n",
       "    <tr>\n",
       "      <th>0</th>\n",
       "      <td>6562638659653</td>\n",
       "      <td>VITALIFT-A</td>\n",
       "      <td>Dr. Different</td>\n",
       "      <td>42.0</td>\n",
       "      <td>this nighttime skin treatment is ideal for tho...</td>\n",
       "      <td>Other/Spot Treatments</td>\n",
       "      <td>nighttime skin treatment ideal look improve ap...</td>\n",
       "      <td>[(nighttime, JJ), (skin, NN), (treatment, NN),...</td>\n",
       "      <td>[(nighttime, a), (skin, n), (treatment, n), (i...</td>\n",
       "      <td>[nighttime, skin, treatment, ideal, look, impr...</td>\n",
       "    </tr>\n",
       "    <tr>\n",
       "      <th>1</th>\n",
       "      <td>6562639675461</td>\n",
       "      <td>VITALIFT-A Forte</td>\n",
       "      <td>Dr. Different</td>\n",
       "      <td>52.0</td>\n",
       "      <td>those that need an extra boost to smooth out f...</td>\n",
       "      <td>Other/Spot Treatments</td>\n",
       "      <td>need extra boost smooth fine line wrinkle real...</td>\n",
       "      <td>[(need, NN), (extra, VBZ), (boost, VB), (smoot...</td>\n",
       "      <td>[(need, n), (extra, v), (boost, v), (smooth, a...</td>\n",
       "      <td>[need, extra, boost, smooth, fine, line, wrink...</td>\n",
       "    </tr>\n",
       "    <tr>\n",
       "      <th>2</th>\n",
       "      <td>6562640429125</td>\n",
       "      <td>VITALIFT-A Eye &amp; Neck</td>\n",
       "      <td>Dr. Different</td>\n",
       "      <td>40.0</td>\n",
       "      <td>for those looking to target fine lines and wri...</td>\n",
       "      <td>Eye Treatment</td>\n",
       "      <td>look target fine line wrinkle specifically aro...</td>\n",
       "      <td>[(looking, VBG), (target, NN), (fine, JJ), (li...</td>\n",
       "      <td>[(looking, v), (target, n), (fine, a), (lines,...</td>\n",
       "      <td>[look, target, fine, line, wrinkle, specifical...</td>\n",
       "    </tr>\n",
       "  </tbody>\n",
       "</table>\n",
       "</div>"
      ],
      "text/plain": [
       "      product_id           product_name  product_brand  price  \\\n",
       "0  6562638659653             VITALIFT-A  Dr. Different   42.0   \n",
       "1  6562639675461       VITALIFT-A Forte  Dr. Different   52.0   \n",
       "2  6562640429125  VITALIFT-A Eye & Neck  Dr. Different   40.0   \n",
       "\n",
       "                                 product_description           product_type  \\\n",
       "0  this nighttime skin treatment is ideal for tho...  Other/Spot Treatments   \n",
       "1  those that need an extra boost to smooth out f...  Other/Spot Treatments   \n",
       "2  for those looking to target fine lines and wri...          Eye Treatment   \n",
       "\n",
       "                                   description_clean  \\\n",
       "0  nighttime skin treatment ideal look improve ap...   \n",
       "1  need extra boost smooth fine line wrinkle real...   \n",
       "2  look target fine line wrinkle specifically aro...   \n",
       "\n",
       "                                            pos_tags  \\\n",
       "0  [(nighttime, JJ), (skin, NN), (treatment, NN),...   \n",
       "1  [(need, NN), (extra, VBZ), (boost, VB), (smoot...   \n",
       "2  [(looking, VBG), (target, NN), (fine, JJ), (li...   \n",
       "\n",
       "                                         wordnet_pos  \\\n",
       "0  [(nighttime, a), (skin, n), (treatment, n), (i...   \n",
       "1  [(need, n), (extra, v), (boost, v), (smooth, a...   \n",
       "2  [(looking, v), (target, n), (fine, a), (lines,...   \n",
       "\n",
       "                                          lemmatized  \n",
       "0  [nighttime, skin, treatment, ideal, look, impr...  \n",
       "1  [need, extra, boost, smooth, fine, line, wrink...  \n",
       "2  [look, target, fine, line, wrinkle, specifical...  "
      ]
     },
     "execution_count": 12,
     "metadata": {},
     "output_type": "execute_result"
    }
   ],
   "source": [
    "productList_df.head(3)"
   ]
  },
  {
   "cell_type": "code",
   "execution_count": 13,
   "metadata": {},
   "outputs": [],
   "source": [
    "X = productList_df[['product_id','product_name','product_brand', 'price','product_type','product_description', 'description_clean']]"
   ]
  },
  {
   "cell_type": "code",
   "execution_count": 14,
   "metadata": {},
   "outputs": [],
   "source": [
    "X.to_csv('prod_descR.csv')"
   ]
  },
  {
   "cell_type": "markdown",
   "metadata": {},
   "source": [
    "#### Data Frame 2 Product Reviews"
   ]
  },
  {
   "cell_type": "code",
   "execution_count": 15,
   "metadata": {},
   "outputs": [],
   "source": [
    "productReviews_df = pd.read_csv(\"productReviews.csv\", index_col=0)"
   ]
  },
  {
   "cell_type": "code",
   "execution_count": 16,
   "metadata": {},
   "outputs": [
    {
     "data": {
      "text/html": [
       "<div>\n",
       "<style scoped>\n",
       "    .dataframe tbody tr th:only-of-type {\n",
       "        vertical-align: middle;\n",
       "    }\n",
       "\n",
       "    .dataframe tbody tr th {\n",
       "        vertical-align: top;\n",
       "    }\n",
       "\n",
       "    .dataframe thead th {\n",
       "        text-align: right;\n",
       "    }\n",
       "</style>\n",
       "<table border=\"1\" class=\"dataframe\">\n",
       "  <thead>\n",
       "    <tr style=\"text-align: right;\">\n",
       "      <th></th>\n",
       "      <th>product_id</th>\n",
       "      <th>review</th>\n",
       "    </tr>\n",
       "  </thead>\n",
       "  <tbody>\n",
       "    <tr>\n",
       "      <th>0</th>\n",
       "      <td>4669755719749</td>\n",
       "      <td>This makes my skin smooth and soft and is ligh...</td>\n",
       "    </tr>\n",
       "    <tr>\n",
       "      <th>1</th>\n",
       "      <td>4669755719749</td>\n",
       "      <td>Love the silky texture. It's very lightweight ...</td>\n",
       "    </tr>\n",
       "    <tr>\n",
       "      <th>2</th>\n",
       "      <td>4669755719749</td>\n",
       "      <td>I’ve been trying to find a moisturizer that wo...</td>\n",
       "    </tr>\n",
       "  </tbody>\n",
       "</table>\n",
       "</div>"
      ],
      "text/plain": [
       "      product_id                                             review\n",
       "0  4669755719749  This makes my skin smooth and soft and is ligh...\n",
       "1  4669755719749  Love the silky texture. It's very lightweight ...\n",
       "2  4669755719749  I’ve been trying to find a moisturizer that wo..."
      ]
     },
     "execution_count": 16,
     "metadata": {},
     "output_type": "execute_result"
    }
   ],
   "source": [
    "productReviews_df[['product_id','review']].head(3)"
   ]
  },
  {
   "cell_type": "code",
   "execution_count": 17,
   "metadata": {},
   "outputs": [
    {
     "data": {
      "text/plain": [
       "'I’ve been trying to find a moisturizer that would not dry out my skin for months. Especially while wearing a mask. This product does much better than lots of others I have tried. Thank you'"
      ]
     },
     "execution_count": 17,
     "metadata": {},
     "output_type": "execute_result"
    }
   ],
   "source": [
    "productReviews_df.iloc[2,1]"
   ]
  },
  {
   "cell_type": "code",
   "execution_count": 18,
   "metadata": {},
   "outputs": [
    {
     "data": {
      "text/html": [
       "<div>\n",
       "<style scoped>\n",
       "    .dataframe tbody tr th:only-of-type {\n",
       "        vertical-align: middle;\n",
       "    }\n",
       "\n",
       "    .dataframe tbody tr th {\n",
       "        vertical-align: top;\n",
       "    }\n",
       "\n",
       "    .dataframe thead th {\n",
       "        text-align: right;\n",
       "    }\n",
       "</style>\n",
       "<table border=\"1\" class=\"dataframe\">\n",
       "  <thead>\n",
       "    <tr style=\"text-align: right;\">\n",
       "      <th></th>\n",
       "      <th>product_id</th>\n",
       "      <th>review</th>\n",
       "    </tr>\n",
       "  </thead>\n",
       "  <tbody>\n",
       "    <tr>\n",
       "      <th>0</th>\n",
       "      <td>4669755719749</td>\n",
       "      <td>This makes my skin smooth and soft and is ligh...</td>\n",
       "    </tr>\n",
       "    <tr>\n",
       "      <th>1</th>\n",
       "      <td>4669755719749</td>\n",
       "      <td>Love the silky texture. It's very lightweight ...</td>\n",
       "    </tr>\n",
       "  </tbody>\n",
       "</table>\n",
       "</div>"
      ],
      "text/plain": [
       "      product_id                                             review\n",
       "0  4669755719749  This makes my skin smooth and soft and is ligh...\n",
       "1  4669755719749  Love the silky texture. It's very lightweight ..."
      ]
     },
     "execution_count": 18,
     "metadata": {},
     "output_type": "execute_result"
    }
   ],
   "source": [
    "productReviews_df = clean_string(productReviews_df)\n",
    "productReviews_df.head(2)"
   ]
  },
  {
   "cell_type": "code",
   "execution_count": 19,
   "metadata": {},
   "outputs": [],
   "source": [
    "productReviews_df = productReviews_df.rename(columns={\"review\": \"review_sentiment\"})"
   ]
  },
  {
   "cell_type": "code",
   "execution_count": 20,
   "metadata": {},
   "outputs": [],
   "source": [
    "productReviews_df = clean_string(productReviews_df)\n",
    "productReviews_df = pre_processing1(productReviews_df, 'review_sentiment')"
   ]
  },
  {
   "cell_type": "markdown",
   "metadata": {},
   "source": [
    "Deleting any reviews that includes hi or sorry words, because those are replies from the seller"
   ]
  },
  {
   "cell_type": "code",
   "execution_count": 21,
   "metadata": {},
   "outputs": [],
   "source": [
    "remove = ['Hi ', 'hi ', 'sorry', 'Sorry']\n",
    "for item in remove:\n",
    "    for index, row in productReviews_df.iterrows():\n",
    "        x = str(row['review_sentiment'])\n",
    "        if item in x:\n",
    "            productReviews_df.drop(index, inplace=True)\n",
    "        else:\n",
    "            None"
   ]
  },
  {
   "cell_type": "code",
   "execution_count": 22,
   "metadata": {},
   "outputs": [],
   "source": [
    "productReviews_df = remove_stopwords(productReviews_df, \"review_sentiment\", stop)"
   ]
  },
  {
   "cell_type": "code",
   "execution_count": 23,
   "metadata": {},
   "outputs": [],
   "source": [
    "productReviews_df = lemmatized_text(productReviews_df, \"clean\")\n",
    "productReviews_df = productReviews_df.rename(columns={\"clean\": \"review_similarity\"})"
   ]
  },
  {
   "cell_type": "code",
   "execution_count": 25,
   "metadata": {},
   "outputs": [],
   "source": [
    "productReviews_df= productReviews_df.reset_index(drop = True)"
   ]
  },
  {
   "cell_type": "code",
   "execution_count": 26,
   "metadata": {},
   "outputs": [
    {
     "data": {
      "text/plain": [
       "False"
      ]
     },
     "execution_count": 26,
     "metadata": {},
     "output_type": "execute_result"
    }
   ],
   "source": [
    "productReviews_df['review_similarity'].isnull().values.any()"
   ]
  },
  {
   "cell_type": "code",
   "execution_count": 27,
   "metadata": {},
   "outputs": [
    {
     "data": {
      "text/plain": [
       "(14562, 6)"
      ]
     },
     "execution_count": 27,
     "metadata": {},
     "output_type": "execute_result"
    }
   ],
   "source": [
    "productReviews_df.shape"
   ]
  },
  {
   "cell_type": "code",
   "execution_count": 28,
   "metadata": {},
   "outputs": [
    {
     "data": {
      "text/html": [
       "<div>\n",
       "<style scoped>\n",
       "    .dataframe tbody tr th:only-of-type {\n",
       "        vertical-align: middle;\n",
       "    }\n",
       "\n",
       "    .dataframe tbody tr th {\n",
       "        vertical-align: top;\n",
       "    }\n",
       "\n",
       "    .dataframe thead th {\n",
       "        text-align: right;\n",
       "    }\n",
       "</style>\n",
       "<table border=\"1\" class=\"dataframe\">\n",
       "  <thead>\n",
       "    <tr style=\"text-align: right;\">\n",
       "      <th></th>\n",
       "      <th>product_id</th>\n",
       "      <th>review_sentiment</th>\n",
       "      <th>review_similarity</th>\n",
       "      <th>pos_tags</th>\n",
       "      <th>wordnet_pos</th>\n",
       "      <th>lemmatized</th>\n",
       "    </tr>\n",
       "  </thead>\n",
       "  <tbody>\n",
       "    <tr>\n",
       "      <th>0</th>\n",
       "      <td>4669755719749</td>\n",
       "      <td>this makes my skin smooth and soft and is ligh...</td>\n",
       "      <td>make skin smooth soft lightweight absorbs quickly</td>\n",
       "      <td>[(makes, VBZ), (skin, JJ), (smooth, JJ), (soft...</td>\n",
       "      <td>[(makes, v), (skin, a), (smooth, a), (soft, a)...</td>\n",
       "      <td>[make, skin, smooth, soft, lightweight, absorb...</td>\n",
       "    </tr>\n",
       "    <tr>\n",
       "      <th>1</th>\n",
       "      <td>4669755719749</td>\n",
       "      <td>love the silky texture its very lightweight bu...</td>\n",
       "      <td>love silky texture lightweight hydrate leaf sk...</td>\n",
       "      <td>[(love, VB), (silky, JJ), (texture, NN), (ligh...</td>\n",
       "      <td>[(love, v), (silky, a), (texture, n), (lightwe...</td>\n",
       "      <td>[love, silky, texture, lightweight, hydrate, l...</td>\n",
       "    </tr>\n",
       "    <tr>\n",
       "      <th>2</th>\n",
       "      <td>4669755719749</td>\n",
       "      <td>i ve been trying to find a moisturizer that wo...</td>\n",
       "      <td>try find moisturizer would dry skin month espe...</td>\n",
       "      <td>[(trying, VBG), (find, NN), (moisturizer, NN),...</td>\n",
       "      <td>[(trying, v), (find, n), (moisturizer, n), (wo...</td>\n",
       "      <td>[try, find, moisturizer, would, dry, skin, mon...</td>\n",
       "    </tr>\n",
       "  </tbody>\n",
       "</table>\n",
       "</div>"
      ],
      "text/plain": [
       "      product_id                                   review_sentiment  \\\n",
       "0  4669755719749  this makes my skin smooth and soft and is ligh...   \n",
       "1  4669755719749  love the silky texture its very lightweight bu...   \n",
       "2  4669755719749  i ve been trying to find a moisturizer that wo...   \n",
       "\n",
       "                                   review_similarity  \\\n",
       "0  make skin smooth soft lightweight absorbs quickly   \n",
       "1  love silky texture lightweight hydrate leaf sk...   \n",
       "2  try find moisturizer would dry skin month espe...   \n",
       "\n",
       "                                            pos_tags  \\\n",
       "0  [(makes, VBZ), (skin, JJ), (smooth, JJ), (soft...   \n",
       "1  [(love, VB), (silky, JJ), (texture, NN), (ligh...   \n",
       "2  [(trying, VBG), (find, NN), (moisturizer, NN),...   \n",
       "\n",
       "                                         wordnet_pos  \\\n",
       "0  [(makes, v), (skin, a), (smooth, a), (soft, a)...   \n",
       "1  [(love, v), (silky, a), (texture, n), (lightwe...   \n",
       "2  [(trying, v), (find, n), (moisturizer, n), (wo...   \n",
       "\n",
       "                                          lemmatized  \n",
       "0  [make, skin, smooth, soft, lightweight, absorb...  \n",
       "1  [love, silky, texture, lightweight, hydrate, l...  \n",
       "2  [try, find, moisturizer, would, dry, skin, mon...  "
      ]
     },
     "execution_count": 28,
     "metadata": {},
     "output_type": "execute_result"
    }
   ],
   "source": [
    "productReviews_df.head(3)"
   ]
  },
  {
   "cell_type": "code",
   "execution_count": 30,
   "metadata": {},
   "outputs": [],
   "source": [
    "productReviews_df.to_csv('clean_reviews.csv')"
   ]
  }
 ],
 "metadata": {
  "kernelspec": {
   "display_name": "Python 3",
   "language": "python",
   "name": "python3"
  },
  "language_info": {
   "codemirror_mode": {
    "name": "ipython",
    "version": 3
   },
   "file_extension": ".py",
   "mimetype": "text/x-python",
   "name": "python",
   "nbconvert_exporter": "python",
   "pygments_lexer": "ipython3",
   "version": "3.6.13"
  }
 },
 "nbformat": 4,
 "nbformat_minor": 4
}
