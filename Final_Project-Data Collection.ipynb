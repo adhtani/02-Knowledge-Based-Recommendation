{
 "cells": [
  {
   "cell_type": "markdown",
   "metadata": {},
   "source": [
    "## Project: Knowledge Based Recommendation System\n",
    "### Data Collection\n",
    "\n",
    "#### DSC 630\n",
    "\n",
    "Taniya Adhikari 15/24/2021"
   ]
  },
  {
   "cell_type": "code",
   "execution_count": 77,
   "metadata": {},
   "outputs": [
    {
     "name": "stderr",
     "output_type": "stream",
     "text": [
      "[nltk_data] Downloading package stopwords to\n",
      "[nltk_data]     C:\\Users\\bibek\\AppData\\Roaming\\nltk_data...\n",
      "[nltk_data]   Package stopwords is already up-to-date!\n"
     ]
    }
   ],
   "source": [
    "from bs4 import BeautifulSoup as BS\n",
    "import numpy as np\n",
    "import pandas as pd\n",
    "\n",
    "import matplotlib.pyplot as plt; plt.rcdefaults()\n",
    "import matplotlib.pyplot as plt\n",
    "import seaborn as sns\n",
    "import requests\n",
    "\n",
    "import warnings; warnings.simplefilter('ignore')\n",
    "\n",
    "import re\n",
    "from re import sub\n",
    "import multiprocessing\n",
    "from unidecode import unidecode\n",
    "\n",
    "from gensim.models.phrases import Phrases, Phraser\n",
    "from gensim.models import Word2Vec\n",
    "from gensim.test.utils import get_tmpfile\n",
    "from gensim.models import KeyedVectors\n",
    "\n",
    "\n",
    "from time import time \n",
    "from collections import defaultdict\n",
    "\n",
    "import logging  # Setting up the loggings to monitor gensim\n",
    "logging.basicConfig(format=\"%(levelname)s - %(asctime)s: %(message)s\", datefmt= '%H:%M:%S', level=logging.INFO)\n",
    "import textblob\n",
    "\n",
    "import nltk\n",
    "nltk.download('stopwords')\n",
    "from nltk.corpus import stopwords\n",
    "from nltk.stem import PorterStemmer\n",
    "from nltk.tokenize import word_tokenize\n",
    "from textblob import TextBlob\n",
    "from sklearn.cluster import KMeans"
   ]
  },
  {
   "cell_type": "markdown",
   "metadata": {},
   "source": [
    "### Data Collection"
   ]
  },
  {
   "cell_type": "code",
   "execution_count": 2,
   "metadata": {},
   "outputs": [],
   "source": [
    "baseurl = \"https://sokoglam.com\"\n",
    "headers = {'User-Agent': 'Mozilla/5.0 (Windows NT 10.0; Win64; x64) AppleWebKit/537.36 (KHTML, like Gecko) Chrome/89.0.4389.82 Safari/537.36'}"
   ]
  },
  {
   "cell_type": "code",
   "execution_count": 3,
   "metadata": {},
   "outputs": [],
   "source": [
    "k = requests.get('https://sokoglam.com/collections/skincare').text\n",
    "soup=BS(k,'html.parser')\n",
    "productlist = soup.find_all(\"div\",{\"class\":\"product-grid-item\"})"
   ]
  },
  {
   "cell_type": "code",
   "execution_count": 4,
   "metadata": {},
   "outputs": [
    {
     "data": {
      "text/plain": [
       "1"
      ]
     },
     "execution_count": 4,
     "metadata": {},
     "output_type": "execute_result"
    }
   ],
   "source": [
    "productlinks = []\n",
    "for product in productlist:\n",
    "    link = product.find('a').get('href')\n",
    "    productlinks.append(baseurl + link)"
   ]
  },
  {
   "cell_type": "code",
   "execution_count": 6,
   "metadata": {},
   "outputs": [
    {
     "data": {
      "text/plain": [
       "299"
      ]
     },
     "execution_count": 6,
     "metadata": {},
     "output_type": "execute_result"
    }
   ],
   "source": [
    "len(productlinks)"
   ]
  },
  {
   "cell_type": "code",
   "execution_count": 8,
   "metadata": {},
   "outputs": [],
   "source": [
    "data=[]\n",
    "for link in productlinks:\n",
    "    f = requests.get(link,headers=headers).text\n",
    "    hun=BS(f,'html.parser')\n",
    "    try:\n",
    "        i=hun.find(\"div\",{\"class\":\"review-stars\"})\n",
    "        product_id = i.find(\"div\").get(\"data-product-id\")\n",
    "    except:\n",
    "        product_id = None\n",
    "        \n",
    "    try:\n",
    "        name=hun.find(\"h1\",{\"class\":\"pdp__product-title\"}).text.replace('\\n',\"\")\n",
    "    except:\n",
    "        name = None\n",
    "        \n",
    "    try:\n",
    "        brand=hun.find(\"h3\",{\"class\":\"pdp__product-vendor\"}).text.replace('\\n',\"\")\n",
    "    except:\n",
    "        brand = None\n",
    "    \n",
    "    try:\n",
    "        price=hun.find(\"span\",{\"class\":\"pdp-product__price--sale ProductPrice\"}).text.replace('\\n',\"\")\n",
    "    except:\n",
    "        price = None\n",
    "\n",
    "    try:\n",
    "        content1=hun.find(\"section\",{\"id\":\"content1\"})\n",
    "        descp=content1.find(\"div\",{\"class\":\"pdp-tab-content\"}).text.replace('\\n',\"\")\n",
    "    except:\n",
    "        descp = None\n",
    "\n",
    "    product = {\"product_ID\":product_id,\"product_name\":name, \"product_brand\":brand, \"price\": price, \"product_description\":descp, }\n",
    "\n",
    "    data.append(product)"
   ]
  },
  {
   "cell_type": "code",
   "execution_count": 9,
   "metadata": {},
   "outputs": [],
   "source": [
    "meta_df = pd.DataFrame(data)"
   ]
  },
  {
   "cell_type": "code",
   "execution_count": 10,
   "metadata": {
    "scrolled": true
   },
   "outputs": [
    {
     "data": {
      "text/plain": [
       "(299, 5)"
      ]
     },
     "execution_count": 10,
     "metadata": {},
     "output_type": "execute_result"
    }
   ],
   "source": [
    "meta_df.shape"
   ]
  },
  {
   "cell_type": "markdown",
   "metadata": {},
   "source": [
    "Removing products that are either body or hair product, makeup products that is not typical skincare, books from the website, clothes"
   ]
  },
  {
   "cell_type": "code",
   "execution_count": 11,
   "metadata": {},
   "outputs": [],
   "source": [
    "remove = ['Hair', 'Shampoo', 'Body', 'Foot', 'Hand']\n",
    "for item in remove:\n",
    "    for index, row in meta_df.iterrows():\n",
    "        x = str(row['product_name'])\n",
    "        if item in x:\n",
    "            meta_df.drop(index, inplace=True)\n",
    "        else:\n",
    "            None"
   ]
  },
  {
   "cell_type": "code",
   "execution_count": 12,
   "metadata": {},
   "outputs": [],
   "source": [
    "remove = ['Hair', 'Shampoo', 'Body', 'Foot', 'Hand']\n",
    "for item in remove:\n",
    "    for index, row in meta_df.iterrows():\n",
    "        x = str(row['product_description'])\n",
    "        if item in x:\n",
    "            meta_df.drop(index, inplace=True)\n",
    "        else:\n",
    "            None"
   ]
  },
  {
   "cell_type": "code",
   "execution_count": 13,
   "metadata": {},
   "outputs": [],
   "source": [
    "remove = ['Set', 'Kit', 'Routine', 'Collection', 'Duo Trial', 'Treatment Duo', 'Balancing Duo', 'Cleansing Duo']\n",
    "for item in remove:\n",
    "    for index, row in meta_df.iterrows():\n",
    "        x = str(row['product_name'])\n",
    "        if item in x:\n",
    "            meta_df.drop(index, inplace=True)\n",
    "        else:\n",
    "            None"
   ]
  },
  {
   "cell_type": "code",
   "execution_count": 14,
   "metadata": {},
   "outputs": [],
   "source": [
    "remove = ['Liner', 'Blush', 'Primer', 'Lip Luminizer', 'Lip Lacquer', 'Eyeliner']\n",
    "for item in remove:\n",
    "    for index, row in meta_df.iterrows():\n",
    "        x = str(row['product_name'])\n",
    "        if item in x:\n",
    "            meta_df.drop(index, inplace=True)\n",
    "        else:\n",
    "            None"
   ]
  },
  {
   "cell_type": "code",
   "execution_count": 15,
   "metadata": {},
   "outputs": [],
   "source": [
    "remove = ['Cotton', 'Paper', 'Book', 'Baseball Cap', 'Sweatshirt']\n",
    "for item in remove:\n",
    "    for index, row in meta_df.iterrows():\n",
    "        x = str(row['product_name'])\n",
    "        if item in x:\n",
    "            meta_df.drop(index, inplace=True)\n",
    "        else:\n",
    "            None"
   ]
  },
  {
   "cell_type": "code",
   "execution_count": 16,
   "metadata": {},
   "outputs": [
    {
     "data": {
      "text/plain": [
       "(242, 5)"
      ]
     },
     "execution_count": 16,
     "metadata": {},
     "output_type": "execute_result"
    }
   ],
   "source": [
    "meta_df.shape"
   ]
  },
  {
   "cell_type": "markdown",
   "metadata": {},
   "source": [
    "Adding a product type to the dataframe"
   ]
  },
  {
   "cell_type": "code",
   "execution_count": 17,
   "metadata": {},
   "outputs": [],
   "source": [
    "meta_df['product_type'] = None"
   ]
  },
  {
   "cell_type": "code",
   "execution_count": 18,
   "metadata": {},
   "outputs": [],
   "source": [
    "def product_type(items, word, df):\n",
    "    for item in items:\n",
    "        for index, row in df.iterrows():\n",
    "            if row['product_type'] == None:\n",
    "                x = str(row['product_name'])\n",
    "                if item in x:\n",
    "                    row['product_type'] = word\n",
    "                else:\n",
    "                    None"
   ]
  },
  {
   "cell_type": "code",
   "execution_count": 19,
   "metadata": {},
   "outputs": [],
   "source": [
    "items = ['Eye']\n",
    "product_type(items, 'Eye Treatment', meta_df)"
   ]
  },
  {
   "cell_type": "code",
   "execution_count": 20,
   "metadata": {},
   "outputs": [],
   "source": [
    "items = ['Lip']\n",
    "product_type(items, 'Lip Treatment', meta_df)"
   ]
  },
  {
   "cell_type": "code",
   "execution_count": 21,
   "metadata": {},
   "outputs": [],
   "source": [
    "add = ['Sun Cream', 'Sun Essence', 'Sunscreen', 'UV', 'SPF', \"I'm Safe For Sensitive Skin\", 'Suncream']\n",
    "for item in add:\n",
    "    for index, row in meta_df.iterrows():\n",
    "        if row['product_type'] == None:\n",
    "            x = str(row['product_name'])\n",
    "            if item in x:\n",
    "                row['product_type'] = 'Sun Protection'\n",
    "            else:\n",
    "                None"
   ]
  },
  {
   "cell_type": "code",
   "execution_count": 22,
   "metadata": {},
   "outputs": [],
   "source": [
    "items = ['Sheet Mask']\n",
    "product_type(items, 'Sheet Mask', meta_df)"
   ]
  },
  {
   "cell_type": "code",
   "execution_count": 23,
   "metadata": {},
   "outputs": [],
   "source": [
    "items = ['Mask']\n",
    "product_type(items, 'Mask', meta_df)"
   ]
  },
  {
   "cell_type": "code",
   "execution_count": 24,
   "metadata": {},
   "outputs": [],
   "source": [
    "items = ['Serum', 'Ampoule']\n",
    "product_type(items, 'Serum', meta_df)"
   ]
  },
  {
   "cell_type": "code",
   "execution_count": 25,
   "metadata": {},
   "outputs": [],
   "source": [
    "items = ['Essence', 'Mist']\n",
    "product_type(items, 'Essence', meta_df)"
   ]
  },
  {
   "cell_type": "code",
   "execution_count": 26,
   "metadata": {},
   "outputs": [],
   "source": [
    "items = ['Cleansing', 'Cleanser', 'Foam']\n",
    "product_type(items, 'Cleanser', meta_df)"
   ]
  },
  {
   "cell_type": "code",
   "execution_count": 27,
   "metadata": {},
   "outputs": [],
   "source": [
    "items = ['Toner', 'Toning', 'Water']\n",
    "product_type(items, 'Toner', meta_df)"
   ]
  },
  {
   "cell_type": "code",
   "execution_count": 28,
   "metadata": {},
   "outputs": [],
   "source": [
    "items = ['Lotion', 'Cream', 'Moisturizer', 'Emulsion']\n",
    "product_type(items, 'Moisturizer', meta_df)"
   ]
  },
  {
   "cell_type": "code",
   "execution_count": 29,
   "metadata": {},
   "outputs": [],
   "source": [
    "items = ['Peel', 'Peeling', 'Scrub', 'Exfoliat', 'Pad']\n",
    "product_type(items, 'Exfoliator', meta_df)"
   ]
  },
  {
   "cell_type": "code",
   "execution_count": 30,
   "metadata": {},
   "outputs": [],
   "source": [
    "for index, row in meta_df.iterrows():\n",
    "    if row['product_type'] == None:\n",
    "        x = str(row['product_name'])\n",
    "        row['product_type'] = 'Other/Spot Treatments'"
   ]
  },
  {
   "cell_type": "code",
   "execution_count": 31,
   "metadata": {},
   "outputs": [],
   "source": [
    "meta_df.to_csv('productlist.csv')"
   ]
  },
  {
   "cell_type": "code",
   "execution_count": 34,
   "metadata": {},
   "outputs": [
    {
     "data": {
      "text/plain": [
       "1"
      ]
     },
     "execution_count": 34,
     "metadata": {},
     "output_type": "execute_result"
    }
   ],
   "source": [
    "session = requests.Session()\n",
    "#productToReviews = [] #empty dictionary\n",
    "productReviews = []\n",
    "for index, row in meta_df.iterrows():\n",
    "    requestUrl = 'https://staticw2.yotpo.com/batch/app_key/kILjLgKH3AFJKWu0W8HoD8nuvs72obqsSPmWjHiG/domain_key/{}/widget/reviews'.format(row.product_ID)\n",
    "    recordExists = True\n",
    "    i = 1\n",
    "    while(recordExists):\n",
    "        methodBody = '[{\"method\":\"reviews\",\"params\":{\"pid\":' + row.product_ID + ',\"order_metadata_fields\":{},\"index\":0,\"element_id\":\"1\",\"data_source\":\"default\",\"page\":' + str(i) +',\"host-widget\":\"main_widget\",\"is_mobile\":false,\"pictures_per_review\":10}}]'\n",
    "        #print(methodBody)\n",
    "        x = session.post(url, data = {'methods': methodBody})\n",
    "        if('be the first to write a review' in x.text):\n",
    "            #print(\"no record\")\n",
    "            recordExists = False\n",
    "        else:\n",
    "            y = json.loads(x.text)\n",
    "            soup=BS(y[0][\"result\"],'html.parser')\n",
    "            reviewList = soup.find_all(\"div\",{\"class\":\"content-review\"})\n",
    "            for review in reviewList:\n",
    "                s = BS(str(review),'html.parser')\n",
    "                r = s.find(\"div\").text.strip()\n",
    "                if(len(r)):\n",
    "                    productReviews.append({\"product_id\": row.product_ID, \"review\": r})\n",
    "            i += 1\n",
    "reviewDataFrame = pd.DataFrame.from_records(productReviews)"
   ]
  },
  {
   "cell_type": "code",
   "execution_count": 436,
   "metadata": {},
   "outputs": [],
   "source": [
    "reviewDataFrame.to_csv('productReviews.csv')"
   ]
  }
 ],
 "metadata": {
  "kernelspec": {
   "display_name": "Python 3",
   "language": "python",
   "name": "python3"
  },
  "language_info": {
   "codemirror_mode": {
    "name": "ipython",
    "version": 3
   },
   "file_extension": ".py",
   "mimetype": "text/x-python",
   "name": "python",
   "nbconvert_exporter": "python",
   "pygments_lexer": "ipython3",
   "version": "3.8.5"
  }
 },
 "nbformat": 4,
 "nbformat_minor": 4
}
